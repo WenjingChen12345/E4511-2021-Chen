{
  "nbformat": 4,
  "nbformat_minor": 0,
  "metadata": {
    "colab": {
      "name": "Untitled0.ipynb",
      "provenance": [],
      "collapsed_sections": []
    },
    "kernelspec": {
      "name": "python3",
      "display_name": "Python 3"
    },
    "language_info": {
      "name": "python"
    }
  },
  "cells": [
    {
      "cell_type": "code",
      "metadata": {
        "colab": {
          "base_uri": "https://localhost:8080/"
        },
        "id": "lTsXSQXjUu54",
        "outputId": "e16392bb-30f2-46b3-f135-7f076980bbf5"
      },
      "source": [
        "\n",
        "%tensorflow_version 1.x\n",
        "\n",
        "# get the Anaconda file \n",
        "! wget -c https://repo.anaconda.com/archive/Anaconda3-2019.10-Linux-x86_64.sh\n",
        "! chmod +x Anaconda3-2019.10-Linux-x86_64.sh\n",
        "! bash ./Anaconda3-2019.10-Linux-x86_64.sh -b -f -p /usr/local\n",
        "\n",
        "! time conda install -y -c deepchem -c rdkit -c conda-forge -c omnia deepchem-gpu=2.3.0\n",
        "\n",
        "import sys\n",
        "sys.path.append('/usr/local/lib/python3.7/site-packages/')\n",
        "import deepchem as dc\n",
        "\n",
        "# install mordred, bravado and molvs\n",
        "! time conda install -c conda-forge -y mordred bravado molvs\n",
        "\n",
        "# get the Install AMPL_GPU_test.sh\n",
        "!wget https://raw.githubusercontent.com/ravichas/AMPL-Tutorial/master/config/install_AMPL_GPU_test.sh\n",
        "\n",
        "# run the script to install AMPL\n",
        "! chmod u+x install_AMPL_GPU_test.sh\n",
        "! ./install_AMPL_GPU_test.sh"
      ],
      "execution_count": 137,
      "outputs": [
        {
          "output_type": "stream",
          "text": [
            "--2021-04-07 16:16:13--  https://repo.anaconda.com/archive/Anaconda3-2019.10-Linux-x86_64.sh\n",
            "Resolving repo.anaconda.com (repo.anaconda.com)... 104.16.131.3, 104.16.130.3, 2606:4700::6810:8303, ...\n",
            "Connecting to repo.anaconda.com (repo.anaconda.com)|104.16.131.3|:443... connected.\n",
            "HTTP request sent, awaiting response... 416 Requested Range Not Satisfiable\n",
            "\n",
            "    The file is already fully retrieved; nothing to do.\n",
            "\n",
            "PREFIX=/usr/local\n",
            "Unpacking payload ...\n",
            "Collecting package metadata (current_repodata.json): - \b\b\\ \b\b| \b\b/ \b\b- \b\b\\ \b\b| \b\b/ \b\b- \b\b\\ \b\b| \b\b/ \b\b- \b\b\\ \b\b| \b\b/ \b\b- \b\b\\ \b\b| \b\b/ \b\b- \b\b\\ \b\b| \b\bdone\n",
            "Solving environment: - \b\b\\ \b\b| \b\b/ \b\b- \b\b\\ \b\b| \b\b/ \b\b- \b\b\\ \b\b| \b\b/ \b\b- \b\b\\ \b\b| \b\b/ \b\b- \b\b\\ \b\b| \b\b/ \b\b- \b\b\\ \b\b| \b\b/ \b\b- \b\b\\ \b\b| \b\b/ \b\b- \b\b\\ \b\b| \b\b/ \b\b- \b\b\\ \b\b| \b\b/ \b\b- \b\b\\ \b\b| \b\b/ \b\b- \b\b\\ \b\b| \b\b/ \b\b- \b\b\\ \b\b| \b\b/ \b\b- \b\b\\ \b\b| \b\b/ \b\b- \b\b\\ \b\b| \b\b/ \b\b- \b\b\\ \b\b| \b\b/ \b\b- \b\b\\ \b\b| \b\b/ \b\b- \b\b\\ \b\b| \b\b/ \b\b- \b\b\\ \b\b| \b\b/ \b\b- \b\b\\ \b\b| \b\b/ \b\b- \b\b\\ \b\b| \b\b/ \b\b- \b\b\\ \b\b| \b\b/ \b\b- \b\b\\ \b\b| \b\b/ \b\b- \b\b\\ \b\b| \b\b/ \b\b- \b\b\\ \b\b| \b\b/ \b\b- \b\b\\ \b\b| \b\b/ \b\b- \b\b\\ \b\b| \b\b/ \b\b- \b\b\\ \b\b| \b\b/ \b\b- \b\b\\ \b\b| \b\b/ \b\b- \b\b\\ \b\b| \b\b/ \b\b- \b\b\\ \b\b| \b\b/ \b\b- \b\b\\ \b\b| \b\b/ \b\b- \b\b\\ \b\b| \b\b/ \b\b- \b\b\\ \b\b| \b\b/ \b\b- \b\b\\ \b\b| \b\b/ \b\b- \b\b\\ \b\b| \b\b/ \b\b- \b\b\\ \b\b| \b\b/ \b\b- \b\b\\ \b\b| \b\b/ \b\b- \b\b\\ \b\b| \b\b/ \b\b- \b\b\\ \b\b| \b\b/ \b\b- \b\b\\ \b\b| \b\b/ \b\b- \b\b\\ \b\b| \b\b/ \b\bdone\n",
            "\n",
            "## Package Plan ##\n",
            "\n",
            "  environment location: /usr/local\n",
            "\n",
            "  added / updated specs:\n",
            "    - _ipyw_jlab_nb_ext_conf==0.1.0=py37_0\n",
            "    - _libgcc_mutex==0.1=main\n",
            "    - alabaster==0.7.12=py37_0\n",
            "    - anaconda-client==1.7.2=py37_0\n",
            "    - anaconda-navigator==1.9.7=py37_0\n",
            "    - anaconda-project==0.8.3=py_0\n",
            "    - anaconda==2019.10=py37_0\n",
            "    - asn1crypto==1.0.1=py37_0\n",
            "    - astroid==2.3.1=py37_0\n",
            "    - astropy==3.2.2=py37h7b6447c_0\n",
            "    - atomicwrites==1.3.0=py37_1\n",
            "    - attrs==19.2.0=py_0\n",
            "    - babel==2.7.0=py_0\n",
            "    - backcall==0.1.0=py37_0\n",
            "    - backports.functools_lru_cache==1.5=py_2\n",
            "    - backports.os==0.1.1=py37_0\n",
            "    - backports.shutil_get_terminal_size==1.0.0=py37_2\n",
            "    - backports.tempfile==1.0=py_1\n",
            "    - backports.weakref==1.0.post1=py_1\n",
            "    - backports==1.0=py_2\n",
            "    - beautifulsoup4==4.8.0=py37_0\n",
            "    - bitarray==1.0.1=py37h7b6447c_0\n",
            "    - bkcharts==0.2=py37_0\n",
            "    - blas==1.0=mkl\n",
            "    - bleach==3.1.0=py37_0\n",
            "    - blosc==1.16.3=hd408876_0\n",
            "    - bokeh==1.3.4=py37_0\n",
            "    - boto==2.49.0=py37_0\n",
            "    - bottleneck==1.2.1=py37h035aef0_1\n",
            "    - bzip2==1.0.8=h7b6447c_0\n",
            "    - ca-certificates==2019.8.28=0\n",
            "    - cairo==1.14.12=h8948797_3\n",
            "    - certifi==2019.9.11=py37_0\n",
            "    - cffi==1.12.3=py37h2e261b9_0\n",
            "    - chardet==3.0.4=py37_1003\n",
            "    - click==7.0=py37_0\n",
            "    - cloudpickle==1.2.2=py_0\n",
            "    - clyent==1.2.2=py37_1\n",
            "    - colorama==0.4.1=py37_0\n",
            "    - conda-build==3.18.9=py37_3\n",
            "    - conda-env==2.6.0=1\n",
            "    - conda-package-handling==1.6.0=py37h7b6447c_0\n",
            "    - conda-verify==3.4.2=py_1\n",
            "    - conda==4.7.12=py37_0\n",
            "    - contextlib2==0.6.0=py_0\n",
            "    - cryptography==2.7=py37h1ba5d50_0\n",
            "    - curl==7.65.3=hbc83047_0\n",
            "    - cycler==0.10.0=py37_0\n",
            "    - cython==0.29.13=py37he6710b0_0\n",
            "    - cytoolz==0.10.0=py37h7b6447c_0\n",
            "    - dask-core==2.5.2=py_0\n",
            "    - dask==2.5.2=py_0\n",
            "    - dbus==1.13.6=h746ee38_0\n",
            "    - decorator==4.4.0=py37_1\n",
            "    - defusedxml==0.6.0=py_0\n",
            "    - distributed==2.5.2=py_0\n",
            "    - docutils==0.15.2=py37_0\n",
            "    - entrypoints==0.3=py37_0\n",
            "    - et_xmlfile==1.0.1=py37_0\n",
            "    - expat==2.2.6=he6710b0_0\n",
            "    - fastcache==1.1.0=py37h7b6447c_0\n",
            "    - filelock==3.0.12=py_0\n",
            "    - flask==1.1.1=py_0\n",
            "    - fontconfig==2.13.0=h9420a91_0\n",
            "    - freetype==2.9.1=h8a8886c_1\n",
            "    - fribidi==1.0.5=h7b6447c_0\n",
            "    - fsspec==0.5.2=py_0\n",
            "    - future==0.17.1=py37_0\n",
            "    - get_terminal_size==1.0.0=haa9412d_0\n",
            "    - gevent==1.4.0=py37h7b6447c_0\n",
            "    - glib==2.56.2=hd408876_0\n",
            "    - glob2==0.7=py_0\n",
            "    - gmp==6.1.2=h6c8ec71_1\n",
            "    - gmpy2==2.0.8=py37h10f8cd9_2\n",
            "    - graphite2==1.3.13=h23475e2_0\n",
            "    - greenlet==0.4.15=py37h7b6447c_0\n",
            "    - gst-plugins-base==1.14.0=hbbd80ab_1\n",
            "    - gstreamer==1.14.0=hb453b48_1\n",
            "    - h5py==2.9.0=py37h7918eee_0\n",
            "    - harfbuzz==1.8.8=hffaf4a1_0\n",
            "    - hdf5==1.10.4=hb1b8bf9_0\n",
            "    - heapdict==1.0.1=py_0\n",
            "    - html5lib==1.0.1=py37_0\n",
            "    - icu==58.2=h9c2bf20_1\n",
            "    - idna==2.8=py37_0\n",
            "    - imageio==2.6.0=py37_0\n",
            "    - imagesize==1.1.0=py37_0\n",
            "    - importlib_metadata==0.23=py37_0\n",
            "    - intel-openmp==2019.4=243\n",
            "    - ipykernel==5.1.2=py37h39e3cac_0\n",
            "    - ipython==7.8.0=py37h39e3cac_0\n",
            "    - ipython_genutils==0.2.0=py37_0\n",
            "    - ipywidgets==7.5.1=py_0\n",
            "    - isort==4.3.21=py37_0\n",
            "    - itsdangerous==1.1.0=py37_0\n",
            "    - jbig==2.1=hdba287a_0\n",
            "    - jdcal==1.4.1=py_0\n",
            "    - jedi==0.15.1=py37_0\n",
            "    - jeepney==0.4.1=py_0\n",
            "    - jinja2==2.10.3=py_0\n",
            "    - joblib==0.13.2=py37_0\n",
            "    - jpeg==9b=h024ee3a_2\n",
            "    - json5==0.8.5=py_0\n",
            "    - jsonschema==3.0.2=py37_0\n",
            "    - jupyter==1.0.0=py37_7\n",
            "    - jupyter_client==5.3.3=py37_1\n",
            "    - jupyter_console==6.0.0=py37_0\n",
            "    - jupyter_core==4.5.0=py_0\n",
            "    - jupyterlab==1.1.4=pyhf63ae98_0\n",
            "    - jupyterlab_server==1.0.6=py_0\n",
            "    - keyring==18.0.0=py37_0\n",
            "    - kiwisolver==1.1.0=py37he6710b0_0\n",
            "    - krb5==1.16.1=h173b8e3_7\n",
            "    - lazy-object-proxy==1.4.2=py37h7b6447c_0\n",
            "    - libarchive==3.3.3=h5d8350f_5\n",
            "    - libcurl==7.65.3=h20c2e04_0\n",
            "    - libedit==3.1.20181209=hc058e9b_0\n",
            "    - libffi==3.2.1=hd88cf55_4\n",
            "    - libgcc-ng==9.1.0=hdf63c60_0\n",
            "    - libgfortran-ng==7.3.0=hdf63c60_0\n",
            "    - liblief==0.9.0=h7725739_2\n",
            "    - libpng==1.6.37=hbc83047_0\n",
            "    - libsodium==1.0.16=h1bed415_0\n",
            "    - libssh2==1.8.2=h1ba5d50_0\n",
            "    - libstdcxx-ng==9.1.0=hdf63c60_0\n",
            "    - libtiff==4.0.10=h2733197_2\n",
            "    - libtool==2.4.6=h7b6447c_5\n",
            "    - libuuid==1.0.3=h1bed415_2\n",
            "    - libxcb==1.13=h1bed415_1\n",
            "    - libxml2==2.9.9=hea5a465_1\n",
            "    - libxslt==1.1.33=h7d1a2b0_0\n",
            "    - llvmlite==0.29.0=py37hd408876_0\n",
            "    - locket==0.2.0=py37_1\n",
            "    - lxml==4.4.1=py37hefd8a0e_0\n",
            "    - lz4-c==1.8.1.2=h14c3975_0\n",
            "    - lzo==2.10=h49e0be7_2\n",
            "    - markupsafe==1.1.1=py37h7b6447c_0\n",
            "    - matplotlib==3.1.1=py37h5429711_0\n",
            "    - mccabe==0.6.1=py37_1\n",
            "    - mistune==0.8.4=py37h7b6447c_0\n",
            "    - mkl-service==2.3.0=py37he904b0f_0\n",
            "    - mkl==2019.4=243\n",
            "    - mkl_fft==1.0.14=py37ha843d7b_0\n",
            "    - mkl_random==1.1.0=py37hd6b4f25_0\n",
            "    - mock==3.0.5=py37_0\n",
            "    - more-itertools==7.2.0=py37_0\n",
            "    - mpc==1.1.0=h10f8cd9_1\n",
            "    - mpfr==4.0.1=hdf1c602_3\n",
            "    - mpmath==1.1.0=py37_0\n",
            "    - msgpack-python==0.6.1=py37hfd86e86_1\n",
            "    - multipledispatch==0.6.0=py37_0\n",
            "    - navigator-updater==0.2.1=py37_0\n",
            "    - nbconvert==5.6.0=py37_1\n",
            "    - nbformat==4.4.0=py37_0\n",
            "    - ncurses==6.1=he6710b0_1\n",
            "    - networkx==2.3=py_0\n",
            "    - nltk==3.4.5=py37_0\n",
            "    - nose==1.3.7=py37_2\n",
            "    - notebook==6.0.1=py37_0\n",
            "    - numba==0.45.1=py37h962f231_0\n",
            "    - numexpr==2.7.0=py37h9e4a6bb_0\n",
            "    - numpy-base==1.17.2=py37hde5b4d6_0\n",
            "    - numpy==1.17.2=py37haad9e8e_0\n",
            "    - numpydoc==0.9.1=py_0\n",
            "    - olefile==0.46=py37_0\n",
            "    - openpyxl==3.0.0=py_0\n",
            "    - openssl==1.1.1d=h7b6447c_2\n",
            "    - packaging==19.2=py_0\n",
            "    - pandas==0.25.1=py37he6710b0_0\n",
            "    - pandoc==2.2.3.2=0\n",
            "    - pandocfilters==1.4.2=py37_1\n",
            "    - pango==1.42.4=h049681c_0\n",
            "    - parso==0.5.1=py_0\n",
            "    - partd==1.0.0=py_0\n",
            "    - patchelf==0.9=he6710b0_3\n",
            "    - path.py==12.0.1=py_0\n",
            "    - pathlib2==2.3.5=py37_0\n",
            "    - patsy==0.5.1=py37_0\n",
            "    - pcre==8.43=he6710b0_0\n",
            "    - pep8==1.7.1=py37_0\n",
            "    - pexpect==4.7.0=py37_0\n",
            "    - pickleshare==0.7.5=py37_0\n",
            "    - pillow==6.2.0=py37h34e0f95_0\n",
            "    - pip==19.2.3=py37_0\n",
            "    - pixman==0.38.0=h7b6447c_0\n",
            "    - pkginfo==1.5.0.1=py37_0\n",
            "    - pluggy==0.13.0=py37_0\n",
            "    - ply==3.11=py37_0\n",
            "    - prometheus_client==0.7.1=py_0\n",
            "    - prompt_toolkit==2.0.10=py_0\n",
            "    - psutil==5.6.3=py37h7b6447c_0\n",
            "    - ptyprocess==0.6.0=py37_0\n",
            "    - py-lief==0.9.0=py37h7725739_2\n",
            "    - py==1.8.0=py37_0\n",
            "    - pycodestyle==2.5.0=py37_0\n",
            "    - pycosat==0.6.3=py37h14c3975_0\n",
            "    - pycparser==2.19=py37_0\n",
            "    - pycrypto==2.6.1=py37h14c3975_9\n",
            "    - pycurl==7.43.0.3=py37h1ba5d50_0\n",
            "    - pyflakes==2.1.1=py37_0\n",
            "    - pygments==2.4.2=py_0\n",
            "    - pylint==2.4.2=py37_0\n",
            "    - pyodbc==4.0.27=py37he6710b0_0\n",
            "    - pyopenssl==19.0.0=py37_0\n",
            "    - pyparsing==2.4.2=py_0\n",
            "    - pyqt==5.9.2=py37h05f1152_2\n",
            "    - pyrsistent==0.15.4=py37h7b6447c_0\n",
            "    - pysocks==1.7.1=py37_0\n",
            "    - pytables==3.5.2=py37h71ec239_1\n",
            "    - pytest-arraydiff==0.3=py37h39e3cac_0\n",
            "    - pytest-astropy==0.5.0=py37_0\n",
            "    - pytest-doctestplus==0.4.0=py_0\n",
            "    - pytest-openfiles==0.4.0=py_0\n",
            "    - pytest-remotedata==0.3.2=py37_0\n",
            "    - pytest==5.2.1=py37_0\n",
            "    - python-dateutil==2.8.0=py37_0\n",
            "    - python-libarchive-c==2.8=py37_13\n",
            "    - python==3.7.4=h265db76_1\n",
            "    - pytz==2019.3=py_0\n",
            "    - pywavelets==1.0.3=py37hdd07704_1\n",
            "    - pyyaml==5.1.2=py37h7b6447c_0\n",
            "    - pyzmq==18.1.0=py37he6710b0_0\n",
            "    - qt==5.9.7=h5867ecd_1\n",
            "    - qtawesome==0.6.0=py_0\n",
            "    - qtconsole==4.5.5=py_0\n",
            "    - qtpy==1.9.0=py_0\n",
            "    - readline==7.0=h7b6447c_5\n",
            "    - requests==2.22.0=py37_0\n",
            "    - ripgrep==0.10.0=hc07d326_0\n",
            "    - rope==0.14.0=py_0\n",
            "    - ruamel_yaml==0.15.46=py37h14c3975_0\n",
            "    - scikit-image==0.15.0=py37he6710b0_0\n",
            "    - scikit-learn==0.21.3=py37hd81dba3_0\n",
            "    - scipy==1.3.1=py37h7c811a0_0\n",
            "    - seaborn==0.9.0=py37_0\n",
            "    - secretstorage==3.1.1=py37_0\n",
            "    - send2trash==1.5.0=py37_0\n",
            "    - setuptools==41.4.0=py37_0\n",
            "    - simplegeneric==0.8.1=py37_2\n",
            "    - singledispatch==3.4.0.3=py37_0\n",
            "    - sip==4.19.8=py37hf484d3e_0\n",
            "    - six==1.12.0=py37_0\n",
            "    - snappy==1.1.7=hbae5bb6_3\n",
            "    - snowballstemmer==2.0.0=py_0\n",
            "    - sortedcollections==1.1.2=py37_0\n",
            "    - sortedcontainers==2.1.0=py37_0\n",
            "    - soupsieve==1.9.3=py37_0\n",
            "    - sphinx==2.2.0=py_0\n",
            "    - sphinxcontrib-applehelp==1.0.1=py_0\n",
            "    - sphinxcontrib-devhelp==1.0.1=py_0\n",
            "    - sphinxcontrib-htmlhelp==1.0.2=py_0\n",
            "    - sphinxcontrib-jsmath==1.0.1=py_0\n",
            "    - sphinxcontrib-qthelp==1.0.2=py_0\n",
            "    - sphinxcontrib-serializinghtml==1.1.3=py_0\n",
            "    - sphinxcontrib-websupport==1.1.2=py_0\n",
            "    - sphinxcontrib==1.0=py37_1\n",
            "    - spyder-kernels==0.5.2=py37_0\n",
            "    - spyder==3.3.6=py37_0\n",
            "    - sqlalchemy==1.3.9=py37h7b6447c_0\n",
            "    - sqlite==3.30.0=h7b6447c_0\n",
            "    - statsmodels==0.10.1=py37hdd07704_0\n",
            "    - sympy==1.4=py37_0\n",
            "    - tbb==2019.4=hfd86e86_0\n",
            "    - tblib==1.4.0=py_0\n",
            "    - terminado==0.8.2=py37_0\n",
            "    - testpath==0.4.2=py37_0\n",
            "    - tk==8.6.8=hbc83047_0\n",
            "    - toolz==0.10.0=py_0\n",
            "    - tornado==6.0.3=py37h7b6447c_0\n",
            "    - tqdm==4.36.1=py_0\n",
            "    - traitlets==4.3.3=py37_0\n",
            "    - unicodecsv==0.14.1=py37_0\n",
            "    - unixodbc==2.3.7=h14c3975_0\n",
            "    - urllib3==1.24.2=py37_0\n",
            "    - wcwidth==0.1.7=py37_0\n",
            "    - webencodings==0.5.1=py37_1\n",
            "    - werkzeug==0.16.0=py_0\n",
            "    - wheel==0.33.6=py37_0\n",
            "    - widgetsnbextension==3.5.1=py37_0\n",
            "    - wrapt==1.11.2=py37h7b6447c_0\n",
            "    - wurlitzer==1.0.3=py37_0\n",
            "    - xlrd==1.2.0=py37_0\n",
            "    - xlsxwriter==1.2.1=py_0\n",
            "    - xlwt==1.3.0=py37_0\n",
            "    - xz==5.2.4=h14c3975_4\n",
            "    - yaml==0.1.7=had09818_2\n",
            "    - zeromq==4.3.1=he6710b0_3\n",
            "    - zict==1.0.0=py_0\n",
            "    - zipp==0.6.0=py_0\n",
            "    - zlib==1.2.11=h7b6447c_3\n",
            "    - zstd==1.3.7=h0b5b093_0\n",
            "\n",
            "\n",
            "The following packages will be SUPERSEDED by a higher-priority channel:\n",
            "\n",
            "  certifi                                       conda-forge --> pkgs/main\n",
            "  conda              conda-forge::conda-4.10.0-py37h89c186~ --> pkgs/main::conda-4.7.12-py37_0\n",
            "\n",
            "\n",
            "Preparing transaction: \\ \b\bdone\n",
            "Executing transaction: / \b\bdone\n",
            "installation finished.\n",
            "WARNING:\n",
            "    You currently have a PYTHONPATH environment variable set. This may cause\n",
            "    unexpected behavior when running the Python interpreter in Anaconda3.\n",
            "    For best results, please verify that your PYTHONPATH only points to\n",
            "    directories of packages that are compatible with the Python interpreter\n",
            "    in Anaconda3: /usr/local\n",
            "Collecting package metadata (current_repodata.json): - \b\b\\ \b\b| \b\b/ \b\b- \b\b\\ \b\b| \b\b/ \b\b- \b\b\\ \b\b| \b\b/ \b\b- \b\b\\ \b\b| \b\b/ \b\b- \b\b\\ \b\b| \b\b/ \b\b- \b\b\\ \b\b| \b\b/ \b\b- \b\b\\ \b\b| \b\b/ \b\b- \b\b\\ \b\b| \b\b/ \b\b- \b\b\\ \b\b| \b\b/ \b\b- \b\b\\ \b\b| \b\b/ \b\b- \b\b\\ \b\b| \b\b/ \b\b- \b\b\\ \b\b| \b\b/ \b\b- \b\b\\ \b\b| \b\b/ \b\b- \b\b\\ \b\b| \b\b/ \b\b- \b\b\\ \b\b| \b\b/ \b\b- \b\b\\ \b\b| \b\b/ \b\b- \b\b\\ \b\b| \b\b/ \b\b- \b\b\\ \b\b| \b\b/ \b\b- \b\b\\ \b\b| \b\b/ \b\b- \b\b\\ \b\b| \b\b/ \b\b- \b\b\\ \b\b| \b\b/ \b\b- \b\b\\ \b\b| \b\b/ \b\b- \b\b\\ \b\b| \b\b/ \b\b- \b\b\\ \b\b| \b\b/ \b\b- \b\b\\ \b\b| \b\b/ \b\b- \b\b\\ \b\b| \b\b/ \b\b- \b\b\\ \b\b| \b\bdone\n",
            "Solving environment: - \b\b\\ \b\b| \b\b/ \b\b- \b\b\\ \b\b| \b\b/ \b\b- \b\b\\ \b\b| \b\b/ \b\b- \b\b\\ \b\b| \b\b/ \b\b- \b\b\\ \b\b| \b\b/ \b\b- \b\b\\ \b\b| \b\b/ \b\b- \b\b\\ \b\b| \b\b/ \b\b- \b\b\\ \b\b| \b\b/ \b\b- \b\b\\ \b\b| \b\b/ \b\b- \b\b\\ \b\b| \b\b/ \b\b- \b\b\\ \b\b| \b\b/ \b\b- \b\b\\ \b\b| \b\b/ \b\b- \b\b\\ \b\b| \b\b/ \b\b- \b\b\\ \b\b| \b\b/ \b\b- \b\b\\ \b\b| \b\b/ \b\b- \b\b\\ \b\b| \b\b/ \b\b- \b\b\\ \b\b| \b\b/ \b\b- \b\bdone\n",
            "\n",
            "\n",
            "==> WARNING: A newer version of conda exists. <==\n",
            "  current version: 4.7.12\n",
            "  latest version: 4.10.0\n",
            "\n",
            "Please update conda by running\n",
            "\n",
            "    $ conda update -n base -c defaults conda\n",
            "\n",
            "\n",
            "\n",
            "## Package Plan ##\n",
            "\n",
            "  environment location: /usr/local\n",
            "\n",
            "  added / updated specs:\n",
            "    - deepchem-gpu=2.3.0\n",
            "\n",
            "\n",
            "The following packages will be UPDATED:\n",
            "\n",
            "  conda                      pkgs/main::conda-4.7.12-py37_0 --> conda-forge::conda-4.10.0-py37h89c1867_1\n",
            "\n",
            "\n",
            "Preparing transaction: | \b\bdone\n",
            "Verifying transaction: - \b\bdone\n",
            "Executing transaction: | \b\bdone\n",
            "\n",
            "real\t0m29.876s\n",
            "user\t0m26.677s\n",
            "sys\t0m2.534s\n",
            "Collecting package metadata (current_repodata.json): - \b\b\\ \b\b| \b\b/ \b\b- \b\b\\ \b\b| \b\b/ \b\b- \b\b\\ \b\b| \b\b/ \b\b- \b\b\\ \b\b| \b\b/ \b\b- \b\b\\ \b\b| \b\b/ \b\b- \b\b\\ \b\b| \b\b/ \b\b- \b\b\\ \b\b| \b\b/ \b\b- \b\b\\ \b\b| \b\b/ \b\b- \b\b\\ \b\b| \b\b/ \b\b- \b\b\\ \b\b| \b\bfailed\n",
            "\n",
            "InvalidVersionSpec: Invalid version '4.19.112+': empty version component\n",
            "\n",
            "\n",
            "real\t0m8.791s\n",
            "user\t0m7.440s\n",
            "sys\t0m1.261s\n",
            "--2021-04-07 16:19:56--  https://raw.githubusercontent.com/ravichas/AMPL-Tutorial/master/config/install_AMPL_GPU_test.sh\n",
            "Resolving raw.githubusercontent.com (raw.githubusercontent.com)... 185.199.108.133, 185.199.109.133, 185.199.110.133, ...\n",
            "Connecting to raw.githubusercontent.com (raw.githubusercontent.com)|185.199.108.133|:443... connected.\n",
            "HTTP request sent, awaiting response... 200 OK\n",
            "Length: 1100 (1.1K) [text/plain]\n",
            "Saving to: ‘install_AMPL_GPU_test.sh.1’\n",
            "\n",
            "install_AMPL_GPU_te 100%[===================>]   1.07K  --.-KB/s    in 0s      \n",
            "\n",
            "2021-04-07 16:19:56 (36.5 MB/s) - ‘install_AMPL_GPU_test.sh.1’ saved [1100/1100]\n",
            "\n",
            "mkdir: cannot create directory ‘github’: File exists\n",
            "fatal: destination path 'AMPL' already exists and is not an empty directory.\n",
            "M\tatomsci/ddm/__init__.py\n",
            "M\tatomsci/ddm/pipeline/transformations.py\n",
            "Already on 'pkg_upgrade'\n",
            "Your branch is up to date with 'origin/pkg_upgrade'.\n",
            "patching file /content/github/AMPL/atomsci/ddm/pipeline/transformations.py\n",
            "Reversed (or previously applied) patch detected!  Skipping patch.\n",
            "1 out of 1 hunk ignored -- saving rejects to file /content/github/AMPL/atomsci/ddm/pipeline/transformations.py.rej\n",
            "patching file /content/github/AMPL/atomsci/ddm/__init__.py\n",
            "Reversed (or previously applied) patch detected!  Skipping patch.\n",
            "1 out of 1 hunk ignored -- saving rejects to file /content/github/AMPL/atomsci/ddm/__init__.py.rej\n",
            "running build\n",
            "running build_py\n",
            "running egg_info\n",
            "writing /content/github/AMPL.build/ampl/atomsci_ampl.egg-info/PKG-INFO\n",
            "writing dependency_links to /content/github/AMPL.build/ampl/atomsci_ampl.egg-info/dependency_links.txt\n",
            "writing namespace_packages to /content/github/AMPL.build/ampl/atomsci_ampl.egg-info/namespace_packages.txt\n",
            "writing top-level names to /content/github/AMPL.build/ampl/atomsci_ampl.egg-info/top_level.txt\n",
            "reading manifest file '/content/github/AMPL.build/ampl/atomsci_ampl.egg-info/SOURCES.txt'\n",
            "reading manifest template 'MANIFEST.in'\n",
            "warning: no files found matching 'atomsci/*/*.yaml'\n",
            "writing manifest file '/content/github/AMPL.build/ampl/atomsci_ampl.egg-info/SOURCES.txt'\n",
            "running bdist_wheel\n",
            "installing to /content/github/AMPL.build/ampl/bdist.linux-x86_64/wheel\n",
            "running install\n",
            "running install_lib\n",
            "Skipping installation of /content/github/AMPL.build/ampl/bdist.linux-x86_64/wheel/atomsci/__init__.py (namespace package)\n",
            "copying atomsci/ddm/__init__.py -> /content/github/AMPL.build/ampl/bdist.linux-x86_64/wheel/atomsci/ddm\n",
            "copying atomsci/ddm/utils/process_slurm.py -> /content/github/AMPL.build/ampl/bdist.linux-x86_64/wheel/atomsci/ddm/utils\n",
            "copying atomsci/ddm/utils/curate_data.py -> /content/github/AMPL.build/ampl/bdist.linux-x86_64/wheel/atomsci/ddm/utils\n",
            "copying atomsci/ddm/utils/hyperparam_search_wrapper.py -> /content/github/AMPL.build/ampl/bdist.linux-x86_64/wheel/atomsci/ddm/utils\n",
            "copying atomsci/ddm/utils/pubchem_utils.py -> /content/github/AMPL.build/ampl/bdist.linux-x86_64/wheel/atomsci/ddm/utils\n",
            "copying atomsci/ddm/utils/struct_utils.py -> /content/github/AMPL.build/ampl/bdist.linux-x86_64/wheel/atomsci/ddm/utils\n",
            "copying atomsci/ddm/utils/rdkit_easy.py -> /content/github/AMPL.build/ampl/bdist.linux-x86_64/wheel/atomsci/ddm/utils\n",
            "copying atomsci/ddm/utils/llnl_utils.py -> /content/github/AMPL.build/ampl/bdist.linux-x86_64/wheel/atomsci/ddm/utils\n",
            "copying atomsci/ddm/utils/datastore_functions.py -> /content/github/AMPL.build/ampl/bdist.linux-x86_64/wheel/atomsci/ddm/utils\n",
            "copying atomsci/ddm/utils/__init__.py -> /content/github/AMPL.build/ampl/bdist.linux-x86_64/wheel/atomsci/ddm/utils\n",
            "copying atomsci/ddm/utils/genTestset.py -> /content/github/AMPL.build/ampl/bdist.linux-x86_64/wheel/atomsci/ddm/utils\n",
            "copying atomsci/ddm/utils/open-docs.py -> /content/github/AMPL.build/ampl/bdist.linux-x86_64/wheel/atomsci/ddm/utils\n",
            "copying atomsci/ddm/utils/data_curation_functions.py -> /content/github/AMPL.build/ampl/bdist.linux-x86_64/wheel/atomsci/ddm/utils\n",
            "copying atomsci/ddm/data/descriptor_sets_sources_by_descr_type.csv -> /content/github/AMPL.build/ampl/bdist.linux-x86_64/wheel/atomsci/ddm/data\n",
            "copying atomsci/ddm/pipeline/predict_from_model.py -> /content/github/AMPL.build/ampl/bdist.linux-x86_64/wheel/atomsci/ddm/pipeline\n",
            "copying atomsci/ddm/pipeline/splitting.py -> /content/github/AMPL.build/ampl/bdist.linux-x86_64/wheel/atomsci/ddm/pipeline\n",
            "copying atomsci/ddm/pipeline/hyper_perf_plots.py -> /content/github/AMPL.build/ampl/bdist.linux-x86_64/wheel/atomsci/ddm/pipeline\n",
            "copying atomsci/ddm/pipeline/chem_diversity.py -> /content/github/AMPL.build/ampl/bdist.linux-x86_64/wheel/atomsci/ddm/pipeline\n",
            "copying atomsci/ddm/pipeline/compare_models.py -> /content/github/AMPL.build/ampl/bdist.linux-x86_64/wheel/atomsci/ddm/pipeline\n",
            "copying atomsci/ddm/pipeline/ave_splitter.py -> /content/github/AMPL.build/ampl/bdist.linux-x86_64/wheel/atomsci/ddm/pipeline\n",
            "copying atomsci/ddm/pipeline/parameter_parser.py -> /content/github/AMPL.build/ampl/bdist.linux-x86_64/wheel/atomsci/ddm/pipeline\n",
            "copying atomsci/ddm/pipeline/perf_plots.py -> /content/github/AMPL.build/ampl/bdist.linux-x86_64/wheel/atomsci/ddm/pipeline\n",
            "copying atomsci/ddm/pipeline/dist_metrics.py -> /content/github/AMPL.build/ampl/bdist.linux-x86_64/wheel/atomsci/ddm/pipeline\n",
            "copying atomsci/ddm/pipeline/model_datasets.py -> /content/github/AMPL.build/ampl/bdist.linux-x86_64/wheel/atomsci/ddm/pipeline\n",
            "copying atomsci/ddm/pipeline/temporal_splitter.py -> /content/github/AMPL.build/ampl/bdist.linux-x86_64/wheel/atomsci/ddm/pipeline\n",
            "copying atomsci/ddm/pipeline/transformations.py -> /content/github/AMPL.build/ampl/bdist.linux-x86_64/wheel/atomsci/ddm/pipeline\n",
            "copying atomsci/ddm/pipeline/model_tracker.py -> /content/github/AMPL.build/ampl/bdist.linux-x86_64/wheel/atomsci/ddm/pipeline\n",
            "copying atomsci/ddm/pipeline/model_pipeline.py -> /content/github/AMPL.build/ampl/bdist.linux-x86_64/wheel/atomsci/ddm/pipeline\n",
            "copying atomsci/ddm/pipeline/diversity_plots.py -> /content/github/AMPL.build/ampl/bdist.linux-x86_64/wheel/atomsci/ddm/pipeline\n",
            "copying atomsci/ddm/pipeline/model_wrapper.py -> /content/github/AMPL.build/ampl/bdist.linux-x86_64/wheel/atomsci/ddm/pipeline\n",
            "copying atomsci/ddm/pipeline/__init__.py -> /content/github/AMPL.build/ampl/bdist.linux-x86_64/wheel/atomsci/ddm/pipeline\n",
            "copying atomsci/ddm/pipeline/perf_data.py -> /content/github/AMPL.build/ampl/bdist.linux-x86_64/wheel/atomsci/ddm/pipeline\n",
            "copying atomsci/ddm/pipeline/featurization.py -> /content/github/AMPL.build/ampl/bdist.linux-x86_64/wheel/atomsci/ddm/pipeline\n",
            "running install_egg_info\n",
            "Copying /content/github/AMPL.build/ampl/atomsci_ampl.egg-info to /content/github/AMPL.build/ampl/bdist.linux-x86_64/wheel/atomsci_ampl-1.0.0.dev1-py3.7.egg-info\n",
            "Installing /content/github/AMPL.build/ampl/bdist.linux-x86_64/wheel/atomsci_ampl-1.0.0.dev1-py3.7-nspkg.pth\n",
            "running install_scripts\n",
            "adding license file \"LICENSE\" (matched pattern \"LICEN[CS]E*\")\n",
            "adding license file \"NOTICE\" (matched pattern \"NOTICE*\")\n",
            "creating /content/github/AMPL.build/ampl/bdist.linux-x86_64/wheel/atomsci_ampl-1.0.0.dev1.dist-info/WHEEL\n",
            "creating '/content/github/AMPL.dist/atomsci_ampl-1.0.0.dev1-py3-none-any.whl' and adding '/content/github/AMPL.build/ampl/bdist.linux-x86_64/wheel' to it\n",
            "adding 'atomsci_ampl-1.0.0.dev1-py3.7-nspkg.pth'\n",
            "adding 'atomsci/ddm/__init__.py'\n",
            "adding 'atomsci/ddm/data/descriptor_sets_sources_by_descr_type.csv'\n",
            "adding 'atomsci/ddm/pipeline/__init__.py'\n",
            "adding 'atomsci/ddm/pipeline/ave_splitter.py'\n",
            "adding 'atomsci/ddm/pipeline/chem_diversity.py'\n",
            "adding 'atomsci/ddm/pipeline/compare_models.py'\n",
            "adding 'atomsci/ddm/pipeline/dist_metrics.py'\n",
            "adding 'atomsci/ddm/pipeline/diversity_plots.py'\n",
            "adding 'atomsci/ddm/pipeline/featurization.py'\n",
            "adding 'atomsci/ddm/pipeline/hyper_perf_plots.py'\n",
            "adding 'atomsci/ddm/pipeline/model_datasets.py'\n",
            "adding 'atomsci/ddm/pipeline/model_pipeline.py'\n",
            "adding 'atomsci/ddm/pipeline/model_tracker.py'\n",
            "adding 'atomsci/ddm/pipeline/model_wrapper.py'\n",
            "adding 'atomsci/ddm/pipeline/parameter_parser.py'\n",
            "adding 'atomsci/ddm/pipeline/perf_data.py'\n",
            "adding 'atomsci/ddm/pipeline/perf_plots.py'\n",
            "adding 'atomsci/ddm/pipeline/predict_from_model.py'\n",
            "adding 'atomsci/ddm/pipeline/splitting.py'\n",
            "adding 'atomsci/ddm/pipeline/temporal_splitter.py'\n",
            "adding 'atomsci/ddm/pipeline/transformations.py'\n",
            "adding 'atomsci/ddm/utils/__init__.py'\n",
            "adding 'atomsci/ddm/utils/curate_data.py'\n",
            "adding 'atomsci/ddm/utils/data_curation_functions.py'\n",
            "adding 'atomsci/ddm/utils/datastore_functions.py'\n",
            "adding 'atomsci/ddm/utils/genTestset.py'\n",
            "adding 'atomsci/ddm/utils/hyperparam_search_wrapper.py'\n",
            "adding 'atomsci/ddm/utils/llnl_utils.py'\n",
            "adding 'atomsci/ddm/utils/open-docs.py'\n",
            "adding 'atomsci/ddm/utils/process_slurm.py'\n",
            "adding 'atomsci/ddm/utils/pubchem_utils.py'\n",
            "adding 'atomsci/ddm/utils/rdkit_easy.py'\n",
            "adding 'atomsci/ddm/utils/struct_utils.py'\n",
            "adding 'atomsci_ampl-1.0.0.dev1.dist-info/LICENSE'\n",
            "adding 'atomsci_ampl-1.0.0.dev1.dist-info/METADATA'\n",
            "adding 'atomsci_ampl-1.0.0.dev1.dist-info/NOTICE'\n",
            "adding 'atomsci_ampl-1.0.0.dev1.dist-info/WHEEL'\n",
            "adding 'atomsci_ampl-1.0.0.dev1.dist-info/namespace_packages.txt'\n",
            "adding 'atomsci_ampl-1.0.0.dev1.dist-info/top_level.txt'\n",
            "adding 'atomsci_ampl-1.0.0.dev1.dist-info/RECORD'\n",
            "removing /content/github/AMPL.build/ampl/bdist.linux-x86_64/wheel\n",
            "DIR: /content/github/AMPL\n",
            "Ignoring indexes: https://pypi.org/simple\n",
            "Created temporary directory: /tmp/pip-ephem-wheel-cache-oiv90vlm\n",
            "Created temporary directory: /tmp/pip-req-tracker-6z_s_f_i\n",
            "Created requirements tracker '/tmp/pip-req-tracker-6z_s_f_i'\n",
            "Created temporary directory: /tmp/pip-install-ez_e3_rj\n",
            "Looking in links: /content/github/AMPL.dist\n",
            "Collecting atomsci_ampl\n",
            "  0 location(s) to search for versions of atomsci-ampl:\n",
            "  Skipping link: unsupported archive format: .dist: /content/github/AMPL.dist (from -f)\n",
            "  Found link file:///content/github/AMPL.dist/atomsci_ampl-1.0.0.dev1-py3-none-any.whl, version: 1.0.0.dev1\n",
            "  Local files found: /content/github/AMPL.dist/atomsci_ampl-1.0.0.dev1-py3-none-any.whl\n",
            "  Given no hashes to check 1 links for project 'atomsci-ampl': discarding no candidates\n",
            "  Using version 1.0.0.dev1 (newest of versions: 1.0.0.dev1)\n",
            "  Added atomsci_ampl from file:///content/github/AMPL.dist/atomsci_ampl-1.0.0.dev1-py3-none-any.whl to build tracker '/tmp/pip-req-tracker-6z_s_f_i'\n",
            "  Removed atomsci_ampl from file:///content/github/AMPL.dist/atomsci_ampl-1.0.0.dev1-py3-none-any.whl from build tracker '/tmp/pip-req-tracker-6z_s_f_i'\n",
            "Installing collected packages: atomsci-ampl\n",
            "\n",
            "Successfully installed atomsci-ampl-1.0.0.dev1\n",
            "Cleaning up...\n",
            "Removed build tracker '/tmp/pip-req-tracker-6z_s_f_i'\n"
          ],
          "name": "stdout"
        }
      ]
    },
    {
      "cell_type": "code",
      "metadata": {
        "colab": {
          "base_uri": "https://localhost:8080/"
        },
        "id": "i6LhJMnyVYbk",
        "outputId": "1d493ec2-01a5-4b57-dd65-737bff7efc99"
      },
      "source": [
        "site_packages_path = '/content/AMPL/lib/python3.7/site-packages'\n",
        "if site_packages_path not in sys.path:\n",
        "  sys.path.insert(1, site_packages_path)\n",
        "sys.path"
      ],
      "execution_count": 138,
      "outputs": [
        {
          "output_type": "execute_result",
          "data": {
            "text/plain": [
              "['/tensorflow-1.15.2/python3.7',\n",
              " '/content/AMPL/lib/python3.7/site-packages',\n",
              " '',\n",
              " '/content',\n",
              " '/env/python',\n",
              " '/usr/lib/python37.zip',\n",
              " '/usr/lib/python3.7',\n",
              " '/usr/lib/python3.7/lib-dynload',\n",
              " '/usr/local/lib/python3.7/dist-packages',\n",
              " '/usr/lib/python3/dist-packages',\n",
              " '/usr/local/lib/python3.7/dist-packages/IPython/extensions',\n",
              " '/root/.ipython',\n",
              " '/usr/local/lib/python3.7/site-packages/',\n",
              " '/usr/local/lib/python3.7/site-packages/']"
            ]
          },
          "metadata": {
            "tags": []
          },
          "execution_count": 138
        }
      ]
    },
    {
      "cell_type": "code",
      "metadata": {
        "id": "5LqN_cDNVZHP"
      },
      "source": [
        "if 'cffi' in sys.modules:\n",
        "  del sys.modules['cffi']"
      ],
      "execution_count": 139,
      "outputs": []
    },
    {
      "cell_type": "code",
      "metadata": {
        "colab": {
          "base_uri": "https://localhost:8080/"
        },
        "id": "ACwSSrlKXnmx",
        "outputId": "15c692df-92fb-4343-a462-ed10d722b126"
      },
      "source": [
        "!pip install bravado"
      ],
      "execution_count": 140,
      "outputs": [
        {
          "output_type": "stream",
          "text": [
            "Requirement already satisfied: bravado in /usr/local/lib/python3.7/site-packages (11.0.3)\n",
            "Requirement already satisfied: pyyaml in /usr/local/lib/python3.7/site-packages (from bravado) (5.1.2)\n",
            "Requirement already satisfied: typing-extensions in /usr/local/lib/python3.7/site-packages (from bravado) (3.7.4.3)\n",
            "Requirement already satisfied: simplejson in /usr/local/lib/python3.7/site-packages (from bravado) (3.17.2)\n",
            "Requirement already satisfied: bravado-core>=5.16.1 in /usr/local/lib/python3.7/site-packages (from bravado) (5.17.0)\n",
            "Requirement already satisfied: six in /usr/local/lib/python3.7/site-packages (from bravado) (1.12.0)\n",
            "Requirement already satisfied: monotonic in /usr/local/lib/python3.7/site-packages (from bravado) (1.5)\n",
            "Requirement already satisfied: msgpack in /usr/local/lib/python3.7/site-packages (from bravado) (0.6.1)\n",
            "Requirement already satisfied: requests>=2.17 in /usr/local/lib/python3.7/site-packages (from bravado) (2.22.0)\n",
            "Requirement already satisfied: python-dateutil in /usr/local/lib/python3.7/site-packages (from bravado) (2.8.0)\n",
            "Requirement already satisfied: swagger-spec-validator>=2.0.1 in /usr/local/lib/python3.7/site-packages (from bravado-core>=5.16.1->bravado) (2.7.3)\n",
            "Requirement already satisfied: jsonschema[format]>=2.5.1 in /usr/local/lib/python3.7/site-packages (from bravado-core>=5.16.1->bravado) (3.0.2)\n",
            "Requirement already satisfied: jsonref in /usr/local/lib/python3.7/site-packages (from bravado-core>=5.16.1->bravado) (0.2)\n",
            "Requirement already satisfied: pytz in /usr/local/lib/python3.7/site-packages (from bravado-core>=5.16.1->bravado) (2019.3)\n",
            "Requirement already satisfied: chardet<3.1.0,>=3.0.2 in /usr/local/lib/python3.7/site-packages (from requests>=2.17->bravado) (3.0.4)\n",
            "Requirement already satisfied: certifi>=2017.4.17 in /usr/local/lib/python3.7/site-packages (from requests>=2.17->bravado) (2019.9.11)\n",
            "Requirement already satisfied: idna<2.9,>=2.5 in /usr/local/lib/python3.7/site-packages (from requests>=2.17->bravado) (2.8)\n",
            "Requirement already satisfied: urllib3!=1.25.0,!=1.25.1,<1.26,>=1.21.1 in /usr/local/lib/python3.7/site-packages (from requests>=2.17->bravado) (1.24.2)\n",
            "Requirement already satisfied: attrs>=17.4.0 in /usr/local/lib/python3.7/site-packages (from jsonschema[format]>=2.5.1->bravado-core>=5.16.1->bravado) (19.2.0)\n",
            "Requirement already satisfied: setuptools in /usr/local/lib/python3.7/site-packages (from jsonschema[format]>=2.5.1->bravado-core>=5.16.1->bravado) (41.4.0)\n",
            "Requirement already satisfied: pyrsistent>=0.14.0 in /usr/local/lib/python3.7/site-packages (from jsonschema[format]>=2.5.1->bravado-core>=5.16.1->bravado) (0.15.4)\n",
            "Requirement already satisfied: webcolors; extra == \"format\" in /usr/local/lib/python3.7/site-packages (from jsonschema[format]>=2.5.1->bravado-core>=5.16.1->bravado) (1.11.1)\n",
            "Requirement already satisfied: rfc3987; extra == \"format\" in /usr/local/lib/python3.7/site-packages (from jsonschema[format]>=2.5.1->bravado-core>=5.16.1->bravado) (1.3.8)\n",
            "Requirement already satisfied: jsonpointer>1.13; extra == \"format\" in /usr/local/lib/python3.7/site-packages (from jsonschema[format]>=2.5.1->bravado-core>=5.16.1->bravado) (2.1)\n",
            "Requirement already satisfied: strict-rfc3339; extra == \"format\" in /usr/local/lib/python3.7/site-packages (from jsonschema[format]>=2.5.1->bravado-core>=5.16.1->bravado) (0.7)\n"
          ],
          "name": "stdout"
        }
      ]
    },
    {
      "cell_type": "code",
      "metadata": {
        "colab": {
          "base_uri": "https://localhost:8080/"
        },
        "id": "1mv1K1trXzKQ",
        "outputId": "6323273e-c07a-48eb-f88d-56b5de2ae4ff"
      },
      "source": [
        "!pip install molvs"
      ],
      "execution_count": 141,
      "outputs": [
        {
          "output_type": "stream",
          "text": [
            "Requirement already satisfied: molvs in /usr/local/lib/python3.7/site-packages (0.1.1)\n",
            "Requirement already satisfied: six in /usr/local/lib/python3.7/site-packages (from molvs) (1.12.0)\n"
          ],
          "name": "stdout"
        }
      ]
    },
    {
      "cell_type": "code",
      "metadata": {
        "colab": {
          "base_uri": "https://localhost:8080/"
        },
        "id": "1AChwtsDX3xP",
        "outputId": "27b32061-2ca8-47e8-faee-13a6ecd02e94"
      },
      "source": [
        "!pip install umap"
      ],
      "execution_count": 142,
      "outputs": [
        {
          "output_type": "stream",
          "text": [
            "Requirement already satisfied: umap in /usr/local/lib/python3.7/site-packages (0.1.1)\n"
          ],
          "name": "stdout"
        }
      ]
    },
    {
      "cell_type": "code",
      "metadata": {
        "id": "nDjM3UZoVZKf"
      },
      "source": [
        "import warnings\n",
        "warnings.filterwarnings('ignore')\n",
        "\n",
        "import json\n",
        "import numpy as np\n",
        "import pandas as pd\n",
        "import os\n",
        "import requests\n",
        "import sys\n",
        "\n",
        "import atomsci.ddm.pipeline.model_pipeline as mp\n",
        "import atomsci.ddm.pipeline.parameter_parser as parse\n",
        "import atomsci.ddm.utils.curate_data as curate_data\n",
        "import atomsci.ddm.utils.struct_utils as struct_utils\n",
        "from atomsci.ddm.pipeline import perf_plots as pp"
      ],
      "execution_count": 143,
      "outputs": []
    },
    {
      "cell_type": "code",
      "metadata": {
        "id": "Z_1Rx7W1VZQW"
      },
      "source": [
        "import warnings\n",
        "warnings.filterwarnings('ignore')\n",
        "\n",
        "%matplotlib inline\n",
        "# manipulate data\n",
        "import pandas as pd\n",
        "\n",
        "import json\n",
        "import requests\n",
        "import io\n",
        "import seaborn as sns\n",
        "import matplotlib.pyplot as plt\n",
        "\n",
        "import matplotlib_venn as mpv\n",
        "from scipy.stats import pearsonr\n",
        "\n",
        "# set up visualization parameters\n",
        "sns.set_context(\"paper\")\n",
        "sns.set_style(\"whitegrid\")\n",
        "sns.set_palette(\"Set2\")\n",
        "pal = sns.color_palette()\n",
        "plt.rcParams['figure.figsize'] = [10,10]\n",
        "\n",
        "pd.set_option('display.max_columns',(90))\n",
        "pd.set_option('display.max_rows',(20))"
      ],
      "execution_count": 144,
      "outputs": []
    },
    {
      "cell_type": "code",
      "metadata": {
        "colab": {
          "base_uri": "https://localhost:8080/",
          "height": 85
        },
        "id": "6ERm2AJvVZS7",
        "outputId": "8bf7d50f-dbb4-4f7a-ea70-9b23188ef664"
      },
      "source": [
        "sns.palplot(pal)"
      ],
      "execution_count": 145,
      "outputs": [
        {
          "output_type": "display_data",
          "data": {
            "image/png": "[encoded data removed]",
            "text/plain": [
              "<Figure size 576x72 with 1 Axes>"
            ]
          },
          "metadata": {
            "tags": []
          }
        }
      ]
    },
    {
      "cell_type": "code",
      "metadata": {
        "id": "9cduc73wfG1U"
      },
      "source": [
        "import atomsci.ddm.utils.data_curation_functions as dcf\n",
        "import atomsci.ddm.utils.curate_data as curate_data\n",
        "import atomsci.ddm.pipeline.diversity_plots as dp\n",
        "import atomsci.ddm.pipeline.chem_diversity as cd\n",
        "# Additional python libraries\n",
        "import pandas as pd\n",
        "import numpy as np\n",
        "import getpass, os"
      ],
      "execution_count": 146,
      "outputs": []
    },
    {
      "cell_type": "code",
      "metadata": {
        "id": "KIkRJ3KxfG33"
      },
      "source": [
        "from google.colab import files"
      ],
      "execution_count": 147,
      "outputs": []
    },
    {
      "cell_type": "code",
      "metadata": {
        "colab": {
          "resources": {
            "http://localhost:8080/nbextensions/google.colab/files.js": {
              "data": "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",
              "ok": true,
              "headers": [
                [
                  "content-type",
                  "application/javascript"
                ]
              ],
              "status": 200,
              "status_text": ""
            }
          },
          "base_uri": "https://localhost:8080/",
          "height": 76
        },
        "id": "L4lO7BJJfG6R",
        "outputId": "0e6e6179-ed73-43e8-c065-b4de7420c300"
      },
      "source": [
        "uploaded = files.upload()"
      ],
      "execution_count": 148,
      "outputs": [
        {
          "output_type": "display_data",
          "data": {
            "text/html": [
              "\n",
              "     <input type=\"file\" id=\"files-ed7b1e0e-61b4-45b7-8d6e-71d0f11faef4\" name=\"files[]\" multiple disabled\n",
              "        style=\"border:none\" />\n",
              "     <output id=\"result-ed7b1e0e-61b4-45b7-8d6e-71d0f11faef4\">\n",
              "      Upload widget is only available when the cell has been executed in the\n",
              "      current browser session. Please rerun this cell to enable.\n",
              "      </output>\n",
              "      <script src=\"/nbextensions/google.colab/files.js\"></script> "
            ],
            "text/plain": [
              "<IPython.core.display.HTML object>"
            ]
          },
          "metadata": {
            "tags": []
          }
        },
        {
          "output_type": "stream",
          "text": [
            "Saving ChEMBL.csv to ChEMBL (2).csv\n"
          ],
          "name": "stdout"
        }
      ]
    },
    {
      "cell_type": "code",
      "metadata": {
        "id": "5pKRO6tCfG8x"
      },
      "source": [
        "chembl = pd.read_csv(io.StringIO(uploaded['ChEMBL.csv'].decode('ISO-8859-1')))"
      ],
      "execution_count": 149,
      "outputs": []
    },
    {
      "cell_type": "code",
      "metadata": {
        "colab": {
          "resources": {
            "http://localhost:8080/nbextensions/google.colab/files.js": {
              "data": "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",
              "ok": true,
              "headers": [
                [
                  "content-type",
                  "application/javascript"
                ]
              ],
              "status": 200,
              "status_text": ""
            }
          },
          "base_uri": "https://localhost:8080/",
          "height": 76
        },
        "id": "HVn8VTwYfG_M",
        "outputId": "28ae5a03-c507-43a7-ddd9-f1c798bcf259"
      },
      "source": [
        "uploaded = files.upload()"
      ],
      "execution_count": 212,
      "outputs": [
        {
          "output_type": "display_data",
          "data": {
            "text/html": [
              "\n",
              "     <input type=\"file\" id=\"files-80744d63-cccd-43ee-841a-d16147026d7d\" name=\"files[]\" multiple disabled\n",
              "        style=\"border:none\" />\n",
              "     <output id=\"result-80744d63-cccd-43ee-841a-d16147026d7d\">\n",
              "      Upload widget is only available when the cell has been executed in the\n",
              "      current browser session. Please rerun this cell to enable.\n",
              "      </output>\n",
              "      <script src=\"/nbextensions/google.colab/files.js\"></script> "
            ],
            "text/plain": [
              "<IPython.core.display.HTML object>"
            ]
          },
          "metadata": {
            "tags": []
          }
        },
        {
          "output_type": "stream",
          "text": [
            "Saving DTC.csv to DTC (4).csv\n"
          ],
          "name": "stdout"
        }
      ]
    },
    {
      "cell_type": "code",
      "metadata": {
        "id": "Q4gs_rnMf0u1"
      },
      "source": [
        "dtc = pd.read_csv(io.StringIO(uploaded['DTC.csv'].decode('utf-8')))"
      ],
      "execution_count": 214,
      "outputs": []
    },
    {
      "cell_type": "code",
      "metadata": {
        "colab": {
          "resources": {
            "http://localhost:8080/nbextensions/google.colab/files.js": {
              "data": "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",
              "ok": true,
              "headers": [
                [
                  "content-type",
                  "application/javascript"
                ]
              ],
              "status": 200,
              "status_text": ""
            }
          },
          "base_uri": "https://localhost:8080/",
          "height": 76
        },
        "id": "RLoV2QBDfHBv",
        "outputId": "9b3d19d8-bc40-4b39-fc99-69984e4330ca"
      },
      "source": [
        "uploaded = files.upload()"
      ],
      "execution_count": 154,
      "outputs": [
        {
          "output_type": "display_data",
          "data": {
            "text/html": [
              "\n",
              "     <input type=\"file\" id=\"files-1b1ead96-500a-425c-ba89-0cc53d4dba9c\" name=\"files[]\" multiple disabled\n",
              "        style=\"border:none\" />\n",
              "     <output id=\"result-1b1ead96-500a-425c-ba89-0cc53d4dba9c\">\n",
              "      Upload widget is only available when the cell has been executed in the\n",
              "      current browser session. Please rerun this cell to enable.\n",
              "      </output>\n",
              "      <script src=\"/nbextensions/google.colab/files.js\"></script> "
            ],
            "text/plain": [
              "<IPython.core.display.HTML object>"
            ]
          },
          "metadata": {
            "tags": []
          }
        },
        {
          "output_type": "stream",
          "text": [
            "Saving EXCAPE.csv to EXCAPE (2).csv\n"
          ],
          "name": "stdout"
        }
      ]
    },
    {
      "cell_type": "code",
      "metadata": {
        "id": "VmjUMpTMfHEK"
      },
      "source": [
        "excape = pd.read_csv(io.StringIO(uploaded['EXCAPE.csv'].decode('utf-8')))"
      ],
      "execution_count": 155,
      "outputs": []
    },
    {
      "cell_type": "code",
      "metadata": {
        "id": "7by7KNzefHGz"
      },
      "source": [
        "# get rid of spaces\n",
        "chembl.columns = chembl.columns.str.replace(' ','_') \n",
        "dtc.columns = dtc.columns.str.replace(' ','_') \n",
        "excape.columns = excape.columns.str.replace(' ','_') "
      ],
      "execution_count": 215,
      "outputs": []
    },
    {
      "cell_type": "markdown",
      "metadata": {
        "id": "OLij4nHahBAd"
      },
      "source": [
        "## Chembl - Curation step"
      ]
    },
    {
      "cell_type": "code",
      "metadata": {
        "colab": {
          "base_uri": "https://localhost:8080/",
          "height": 394
        },
        "id": "VA5-qsLVglG7",
        "outputId": "1a140974-5859-4f46-fd8a-d07a69666541"
      },
      "source": [
        "chembl.head()"
      ],
      "execution_count": 179,
      "outputs": [
        {
          "output_type": "execute_result",
          "data": {
            "text/html": [
              "<div>\n",
              "<style scoped>\n",
              "    .dataframe tbody tr th:only-of-type {\n",
              "        vertical-align: middle;\n",
              "    }\n",
              "\n",
              "    .dataframe tbody tr th {\n",
              "        vertical-align: top;\n",
              "    }\n",
              "\n",
              "    .dataframe thead th {\n",
              "        text-align: right;\n",
              "    }\n",
              "</style>\n",
              "<table border=\"1\" class=\"dataframe\">\n",
              "  <thead>\n",
              "    <tr style=\"text-align: right;\">\n",
              "      <th></th>\n",
              "      <th>Molecule_ChEMBL_ID</th>\n",
              "      <th>Molecule_Name</th>\n",
              "      <th>Molecule_Max_Phase</th>\n",
              "      <th>Molecular_Weight</th>\n",
              "      <th>#RO5_Violations</th>\n",
              "      <th>AlogP</th>\n",
              "      <th>Compound_Key</th>\n",
              "      <th>Smiles</th>\n",
              "      <th>Standard_Type</th>\n",
              "      <th>Standard_Relation</th>\n",
              "      <th>Standard_Value</th>\n",
              "      <th>Standard_Units</th>\n",
              "      <th>pChEMBL_Value</th>\n",
              "      <th>Data_Validity_Comment</th>\n",
              "      <th>Comment</th>\n",
              "      <th>Uo_Units</th>\n",
              "      <th>Ligand_Efficiency_BEI</th>\n",
              "      <th>Ligand_Efficiency_LE</th>\n",
              "      <th>Ligand_Efficiency_LLE</th>\n",
              "      <th>Ligand_Efficiency_SEI</th>\n",
              "      <th>Potential_Duplicate</th>\n",
              "      <th>Assay_ChEMBL_ID</th>\n",
              "      <th>Assay_Description</th>\n",
              "      <th>Assay_Type</th>\n",
              "      <th>BAO_Format_ID</th>\n",
              "      <th>BAO_Label</th>\n",
              "      <th>Assay_Organism</th>\n",
              "      <th>Assay_Tissue_ChEMBL_ID</th>\n",
              "      <th>Assay_Tissue_Name</th>\n",
              "      <th>Assay_Cell_Type</th>\n",
              "      <th>Assay_Subcellular_Fraction</th>\n",
              "      <th>Assay_Parameters</th>\n",
              "      <th>Assay_Variant_Accession</th>\n",
              "      <th>Assay_Variant_Mutation</th>\n",
              "      <th>Target_ChEMBL_ID</th>\n",
              "      <th>Target_Name</th>\n",
              "      <th>Target_Organism</th>\n",
              "      <th>Target_Type</th>\n",
              "      <th>Document_ChEMBL_ID</th>\n",
              "      <th>Source_ID</th>\n",
              "      <th>Source_Description</th>\n",
              "      <th>Document_Journal</th>\n",
              "      <th>Document_Year</th>\n",
              "      <th>Cell_ChEMBL_ID</th>\n",
              "      <th>Properties</th>\n",
              "      <th>Standard_Value_nM</th>\n",
              "    </tr>\n",
              "  </thead>\n",
              "  <tbody>\n",
              "    <tr>\n",
              "      <th>0</th>\n",
              "      <td>CHEMBL4539943</td>\n",
              "      <td>NaN</td>\n",
              "      <td>0.0</td>\n",
              "      <td>505.57</td>\n",
              "      <td>1.0</td>\n",
              "      <td>3.60</td>\n",
              "      <td>NaN</td>\n",
              "      <td>O=C(c1ccc(OCCC2CCOCC2)cc1)[C@@H]1CC[C@H](Cn2nn...</td>\n",
              "      <td>Inhibition</td>\n",
              "      <td>'='</td>\n",
              "      <td>6.2900</td>\n",
              "      <td>%</td>\n",
              "      <td>NaN</td>\n",
              "      <td>NaN</td>\n",
              "      <td>Not Active</td>\n",
              "      <td>UO_0000187</td>\n",
              "      <td>NaN</td>\n",
              "      <td>NaN</td>\n",
              "      <td>NaN</td>\n",
              "      <td>NaN</td>\n",
              "      <td>False</td>\n",
              "      <td>CHEMBL4507829</td>\n",
              "      <td>GPCRScan assay: inhibition of Alpha1B</td>\n",
              "      <td>B</td>\n",
              "      <td>BAO_0000357</td>\n",
              "      <td>single protein format</td>\n",
              "      <td>Homo sapiens</td>\n",
              "      <td>NaN</td>\n",
              "      <td>NaN</td>\n",
              "      <td>NaN</td>\n",
              "      <td>NaN</td>\n",
              "      <td>Parental cells: stable HEK | PMID: 7780636/168...</td>\n",
              "      <td>NaN</td>\n",
              "      <td>NaN</td>\n",
              "      <td>CHEMBL232</td>\n",
              "      <td>Alpha-1b adrenergic receptor</td>\n",
              "      <td>Homo sapiens</td>\n",
              "      <td>SINGLE PROTEIN</td>\n",
              "      <td>CHEMBL4507264</td>\n",
              "      <td>54.0</td>\n",
              "      <td>Donated Chemical Probes - SGC Frankfurt</td>\n",
              "      <td>NaN</td>\n",
              "      <td>NaN</td>\n",
              "      <td>NaN</td>\n",
              "      <td>Compound concentration None 10.0 uM</td>\n",
              "      <td>6.2900</td>\n",
              "    </tr>\n",
              "    <tr>\n",
              "      <th>1</th>\n",
              "      <td>CHEMBL4163587</td>\n",
              "      <td>NaN</td>\n",
              "      <td>0.0</td>\n",
              "      <td>459.51</td>\n",
              "      <td>0.0</td>\n",
              "      <td>2.75</td>\n",
              "      <td>10</td>\n",
              "      <td>COc1cc2nc(N3CCC[C@H](NC4=CC(=O)c5ccccc5C4=O)C3...</td>\n",
              "      <td>Ki</td>\n",
              "      <td>'='</td>\n",
              "      <td>0.5248</td>\n",
              "      <td>nM</td>\n",
              "      <td>9.28</td>\n",
              "      <td>NaN</td>\n",
              "      <td>NaN</td>\n",
              "      <td>UO_0000065</td>\n",
              "      <td>20.20</td>\n",
              "      <td>0.37</td>\n",
              "      <td>6.53</td>\n",
              "      <td>7.75</td>\n",
              "      <td>False</td>\n",
              "      <td>CHEMBL4139219</td>\n",
              "      <td>Displacement of [3H]prazosin from human alpha1...</td>\n",
              "      <td>B</td>\n",
              "      <td>BAO_0000219</td>\n",
              "      <td>cell-based format</td>\n",
              "      <td>Homo sapiens</td>\n",
              "      <td>NaN</td>\n",
              "      <td>NaN</td>\n",
              "      <td>CHO</td>\n",
              "      <td>NaN</td>\n",
              "      <td>NaN</td>\n",
              "      <td>NaN</td>\n",
              "      <td>NaN</td>\n",
              "      <td>CHEMBL232</td>\n",
              "      <td>Alpha-1b adrenergic receptor</td>\n",
              "      <td>Homo sapiens</td>\n",
              "      <td>SINGLE PROTEIN</td>\n",
              "      <td>CHEMBL4138091</td>\n",
              "      <td>1.0</td>\n",
              "      <td>Scientific Literature</td>\n",
              "      <td>Eur J Med Chem</td>\n",
              "      <td>2017.0</td>\n",
              "      <td>NaN</td>\n",
              "      <td>NaN</td>\n",
              "      <td>0.5248</td>\n",
              "    </tr>\n",
              "    <tr>\n",
              "      <th>2</th>\n",
              "      <td>CHEMBL234679</td>\n",
              "      <td>NaN</td>\n",
              "      <td>0.0</td>\n",
              "      <td>482.65</td>\n",
              "      <td>0.0</td>\n",
              "      <td>3.76</td>\n",
              "      <td>6cis</td>\n",
              "      <td>CC(C)Oc1ccccc1N1CCN([C@H]2CC[C@@H](NS(=O)(=O)c...</td>\n",
              "      <td>Ki</td>\n",
              "      <td>'='</td>\n",
              "      <td>217.0000</td>\n",
              "      <td>nM</td>\n",
              "      <td>6.66</td>\n",
              "      <td>NaN</td>\n",
              "      <td>NaN</td>\n",
              "      <td>UO_0000065</td>\n",
              "      <td>13.81</td>\n",
              "      <td>0.27</td>\n",
              "      <td>2.90</td>\n",
              "      <td>7.78</td>\n",
              "      <td>False</td>\n",
              "      <td>CHEMBL894517</td>\n",
              "      <td>Binding affinity to human cloned adrenergic al...</td>\n",
              "      <td>B</td>\n",
              "      <td>BAO_0000357</td>\n",
              "      <td>single protein format</td>\n",
              "      <td>Homo sapiens</td>\n",
              "      <td>NaN</td>\n",
              "      <td>NaN</td>\n",
              "      <td>NaN</td>\n",
              "      <td>NaN</td>\n",
              "      <td>NaN</td>\n",
              "      <td>NaN</td>\n",
              "      <td>NaN</td>\n",
              "      <td>CHEMBL232</td>\n",
              "      <td>Alpha-1b adrenergic receptor</td>\n",
              "      <td>Homo sapiens</td>\n",
              "      <td>SINGLE PROTEIN</td>\n",
              "      <td>CHEMBL1148021</td>\n",
              "      <td>1.0</td>\n",
              "      <td>Scientific Literature</td>\n",
              "      <td>Bioorg. Med. Chem. Lett.</td>\n",
              "      <td>2007.0</td>\n",
              "      <td>NaN</td>\n",
              "      <td>NaN</td>\n",
              "      <td>217.0000</td>\n",
              "    </tr>\n",
              "    <tr>\n",
              "      <th>3</th>\n",
              "      <td>CHEMBL15245</td>\n",
              "      <td>YOHIMBINE</td>\n",
              "      <td>4.0</td>\n",
              "      <td>354.45</td>\n",
              "      <td>0.0</td>\n",
              "      <td>2.65</td>\n",
              "      <td>Yohimbine</td>\n",
              "      <td>COC(=O)[C@H]1[C@@H](O)CC[C@H]2CN3CCc4c([nH]c5c...</td>\n",
              "      <td>Ki</td>\n",
              "      <td>NaN</td>\n",
              "      <td>NaN</td>\n",
              "      <td>NaN</td>\n",
              "      <td>NaN</td>\n",
              "      <td>NaN</td>\n",
              "      <td>Not Determined</td>\n",
              "      <td>NaN</td>\n",
              "      <td>NaN</td>\n",
              "      <td>NaN</td>\n",
              "      <td>NaN</td>\n",
              "      <td>NaN</td>\n",
              "      <td>False</td>\n",
              "      <td>CHEMBL4380086</td>\n",
              "      <td>Displacement of [3H]prazosin from human recomb...</td>\n",
              "      <td>B</td>\n",
              "      <td>BAO_0000219</td>\n",
              "      <td>cell-based format</td>\n",
              "      <td>Homo sapiens</td>\n",
              "      <td>NaN</td>\n",
              "      <td>NaN</td>\n",
              "      <td>CHO</td>\n",
              "      <td>NaN</td>\n",
              "      <td>NaN</td>\n",
              "      <td>NaN</td>\n",
              "      <td>NaN</td>\n",
              "      <td>CHEMBL232</td>\n",
              "      <td>Alpha-1b adrenergic receptor</td>\n",
              "      <td>Homo sapiens</td>\n",
              "      <td>SINGLE PROTEIN</td>\n",
              "      <td>CHEMBL4376854</td>\n",
              "      <td>1.0</td>\n",
              "      <td>Scientific Literature</td>\n",
              "      <td>J Med Chem</td>\n",
              "      <td>2020.0</td>\n",
              "      <td>CHEMBL3308072</td>\n",
              "      <td>NaN</td>\n",
              "      <td>NaN</td>\n",
              "    </tr>\n",
              "    <tr>\n",
              "      <th>4</th>\n",
              "      <td>CHEMBL293980</td>\n",
              "      <td>NaN</td>\n",
              "      <td>0.0</td>\n",
              "      <td>424.37</td>\n",
              "      <td>0.0</td>\n",
              "      <td>3.82</td>\n",
              "      <td>70</td>\n",
              "      <td>O=C1CC2(CCCC2)CC(=O)N1CCN1CCN(c2ccc(Cl)cc2Cl)CC1</td>\n",
              "      <td>Ki</td>\n",
              "      <td>NaN</td>\n",
              "      <td>NaN</td>\n",
              "      <td>NaN</td>\n",
              "      <td>NaN</td>\n",
              "      <td>NaN</td>\n",
              "      <td>Not Determined</td>\n",
              "      <td>NaN</td>\n",
              "      <td>NaN</td>\n",
              "      <td>NaN</td>\n",
              "      <td>NaN</td>\n",
              "      <td>NaN</td>\n",
              "      <td>False</td>\n",
              "      <td>CHEMBL649208</td>\n",
              "      <td>Binding affinity constant against alpha-1B adr...</td>\n",
              "      <td>B</td>\n",
              "      <td>BAO_0000221</td>\n",
              "      <td>tissue-based format</td>\n",
              "      <td>Cavia porcellus</td>\n",
              "      <td>CHEMBL3559722</td>\n",
              "      <td>Spleen</td>\n",
              "      <td>NaN</td>\n",
              "      <td>NaN</td>\n",
              "      <td>NaN</td>\n",
              "      <td>NaN</td>\n",
              "      <td>NaN</td>\n",
              "      <td>CHEMBL232</td>\n",
              "      <td>Alpha-1b adrenergic receptor</td>\n",
              "      <td>Homo sapiens</td>\n",
              "      <td>SINGLE PROTEIN</td>\n",
              "      <td>CHEMBL1149137</td>\n",
              "      <td>1.0</td>\n",
              "      <td>Scientific Literature</td>\n",
              "      <td>J. Med. Chem.</td>\n",
              "      <td>2004.0</td>\n",
              "      <td>NaN</td>\n",
              "      <td>NaN</td>\n",
              "      <td>NaN</td>\n",
              "    </tr>\n",
              "  </tbody>\n",
              "</table>\n",
              "</div>"
            ],
            "text/plain": [
              "  Molecule_ChEMBL_ID Molecule_Name  Molecule_Max_Phase  Molecular_Weight  \\\n",
              "0      CHEMBL4539943           NaN                 0.0            505.57   \n",
              "1      CHEMBL4163587           NaN                 0.0            459.51   \n",
              "2       CHEMBL234679           NaN                 0.0            482.65   \n",
              "3        CHEMBL15245     YOHIMBINE                 4.0            354.45   \n",
              "4       CHEMBL293980           NaN                 0.0            424.37   \n",
              "\n",
              "   #RO5_Violations  AlogP Compound_Key  \\\n",
              "0              1.0   3.60          NaN   \n",
              "1              0.0   2.75           10   \n",
              "2              0.0   3.76         6cis   \n",
              "3              0.0   2.65    Yohimbine   \n",
              "4              0.0   3.82           70   \n",
              "\n",
              "                                              Smiles Standard_Type  \\\n",
              "0  O=C(c1ccc(OCCC2CCOCC2)cc1)[C@@H]1CC[C@H](Cn2nn...    Inhibition   \n",
              "1  COc1cc2nc(N3CCC[C@H](NC4=CC(=O)c5ccccc5C4=O)C3...            Ki   \n",
              "2  CC(C)Oc1ccccc1N1CCN([C@H]2CC[C@@H](NS(=O)(=O)c...            Ki   \n",
              "3  COC(=O)[C@H]1[C@@H](O)CC[C@H]2CN3CCc4c([nH]c5c...            Ki   \n",
              "4   O=C1CC2(CCCC2)CC(=O)N1CCN1CCN(c2ccc(Cl)cc2Cl)CC1            Ki   \n",
              "\n",
              "  Standard_Relation  Standard_Value Standard_Units  pChEMBL_Value  \\\n",
              "0               '='          6.2900              %            NaN   \n",
              "1               '='          0.5248             nM           9.28   \n",
              "2               '='        217.0000             nM           6.66   \n",
              "3               NaN             NaN            NaN            NaN   \n",
              "4               NaN             NaN            NaN            NaN   \n",
              "\n",
              "  Data_Validity_Comment         Comment    Uo_Units  Ligand_Efficiency_BEI  \\\n",
              "0                   NaN      Not Active  UO_0000187                    NaN   \n",
              "1                   NaN             NaN  UO_0000065                  20.20   \n",
              "2                   NaN             NaN  UO_0000065                  13.81   \n",
              "3                   NaN  Not Determined         NaN                    NaN   \n",
              "4                   NaN  Not Determined         NaN                    NaN   \n",
              "\n",
              "   Ligand_Efficiency_LE  Ligand_Efficiency_LLE  Ligand_Efficiency_SEI  \\\n",
              "0                   NaN                    NaN                    NaN   \n",
              "1                  0.37                   6.53                   7.75   \n",
              "2                  0.27                   2.90                   7.78   \n",
              "3                   NaN                    NaN                    NaN   \n",
              "4                   NaN                    NaN                    NaN   \n",
              "\n",
              "  Potential_Duplicate Assay_ChEMBL_ID  \\\n",
              "0               False   CHEMBL4507829   \n",
              "1               False   CHEMBL4139219   \n",
              "2               False    CHEMBL894517   \n",
              "3               False   CHEMBL4380086   \n",
              "4               False    CHEMBL649208   \n",
              "\n",
              "                                   Assay_Description Assay_Type BAO_Format_ID  \\\n",
              "0              GPCRScan assay: inhibition of Alpha1B          B   BAO_0000357   \n",
              "1  Displacement of [3H]prazosin from human alpha1...          B   BAO_0000219   \n",
              "2  Binding affinity to human cloned adrenergic al...          B   BAO_0000357   \n",
              "3  Displacement of [3H]prazosin from human recomb...          B   BAO_0000219   \n",
              "4  Binding affinity constant against alpha-1B adr...          B   BAO_0000221   \n",
              "\n",
              "               BAO_Label   Assay_Organism Assay_Tissue_ChEMBL_ID  \\\n",
              "0  single protein format     Homo sapiens                    NaN   \n",
              "1      cell-based format     Homo sapiens                    NaN   \n",
              "2  single protein format     Homo sapiens                    NaN   \n",
              "3      cell-based format     Homo sapiens                    NaN   \n",
              "4    tissue-based format  Cavia porcellus          CHEMBL3559722   \n",
              "\n",
              "  Assay_Tissue_Name Assay_Cell_Type Assay_Subcellular_Fraction  \\\n",
              "0               NaN             NaN                        NaN   \n",
              "1               NaN             CHO                        NaN   \n",
              "2               NaN             NaN                        NaN   \n",
              "3               NaN             CHO                        NaN   \n",
              "4            Spleen             NaN                        NaN   \n",
              "\n",
              "                                    Assay_Parameters  Assay_Variant_Accession  \\\n",
              "0  Parental cells: stable HEK | PMID: 7780636/168...                      NaN   \n",
              "1                                                NaN                      NaN   \n",
              "2                                                NaN                      NaN   \n",
              "3                                                NaN                      NaN   \n",
              "4                                                NaN                      NaN   \n",
              "\n",
              "   Assay_Variant_Mutation Target_ChEMBL_ID                   Target_Name  \\\n",
              "0                     NaN        CHEMBL232  Alpha-1b adrenergic receptor   \n",
              "1                     NaN        CHEMBL232  Alpha-1b adrenergic receptor   \n",
              "2                     NaN        CHEMBL232  Alpha-1b adrenergic receptor   \n",
              "3                     NaN        CHEMBL232  Alpha-1b adrenergic receptor   \n",
              "4                     NaN        CHEMBL232  Alpha-1b adrenergic receptor   \n",
              "\n",
              "  Target_Organism     Target_Type Document_ChEMBL_ID  Source_ID  \\\n",
              "0    Homo sapiens  SINGLE PROTEIN      CHEMBL4507264       54.0   \n",
              "1    Homo sapiens  SINGLE PROTEIN      CHEMBL4138091        1.0   \n",
              "2    Homo sapiens  SINGLE PROTEIN      CHEMBL1148021        1.0   \n",
              "3    Homo sapiens  SINGLE PROTEIN      CHEMBL4376854        1.0   \n",
              "4    Homo sapiens  SINGLE PROTEIN      CHEMBL1149137        1.0   \n",
              "\n",
              "                        Source_Description          Document_Journal  \\\n",
              "0  Donated Chemical Probes - SGC Frankfurt                       NaN   \n",
              "1                    Scientific Literature            Eur J Med Chem   \n",
              "2                    Scientific Literature  Bioorg. Med. Chem. Lett.   \n",
              "3                    Scientific Literature                J Med Chem   \n",
              "4                    Scientific Literature             J. Med. Chem.   \n",
              "\n",
              "   Document_Year Cell_ChEMBL_ID                           Properties  \\\n",
              "0            NaN            NaN  Compound concentration None 10.0 uM   \n",
              "1         2017.0            NaN                                  NaN   \n",
              "2         2007.0            NaN                                  NaN   \n",
              "3         2020.0  CHEMBL3308072                                  NaN   \n",
              "4         2004.0            NaN                                  NaN   \n",
              "\n",
              "   Standard_Value_nM  \n",
              "0             6.2900  \n",
              "1             0.5248  \n",
              "2           217.0000  \n",
              "3                NaN  \n",
              "4                NaN  "
            ]
          },
          "metadata": {
            "tags": []
          },
          "execution_count": 179
        }
      ]
    },
    {
      "cell_type": "code",
      "metadata": {
        "id": "4_o5UjQChYBY"
      },
      "source": [
        "chembl['Standard_Value_nM'] = np.where(chembl.Standard_Units=='uM',chembl.Standard_Value*1000,chembl.Standard_Value)"
      ],
      "execution_count": 180,
      "outputs": []
    },
    {
      "cell_type": "code",
      "metadata": {
        "id": "PNO7rQmbhYDv"
      },
      "source": [
        "chembl = chembl.replace('None',np.nan)"
      ],
      "execution_count": 181,
      "outputs": []
    },
    {
      "cell_type": "code",
      "metadata": {
        "id": "aTWf3Y_9hYG1"
      },
      "source": [
        "#even after removing None you have to recast the column as numeric\n",
        "numeric_cols=['Molecule_Max_Phase',\n",
        "       'Molecular_Weight', '#RO5_Violations', 'AlogP', 'Standard_Value_nM',\n",
        "       'pChEMBL_Value', 'Ligand_Efficiency_BEI', 'Ligand_Efficiency_LE',\n",
        "       'Ligand_Efficiency_LLE', 'Ligand_Efficiency_SEI']\n",
        "for col in numeric_cols:\n",
        "  chembl[col]=chembl[col].astype(float)"
      ],
      "execution_count": 182,
      "outputs": []
    },
    {
      "cell_type": "code",
      "metadata": {
        "colab": {
          "base_uri": "https://localhost:8080/",
          "height": 827
        },
        "id": "hdJcaQmShYIv",
        "outputId": "90b8bf29-4734-46c5-d6d6-bddb546e5031"
      },
      "source": [
        "chembl[numeric_cols].hist(figsize=(10,10))"
      ],
      "execution_count": 183,
      "outputs": [
        {
          "output_type": "execute_result",
          "data": {
            "text/plain": [
              "array([[<matplotlib.axes._subplots.AxesSubplot object at 0x7f2248cc8210>,\n",
              "        <matplotlib.axes._subplots.AxesSubplot object at 0x7f22488fd250>,\n",
              "        <matplotlib.axes._subplots.AxesSubplot object at 0x7f22488dd190>],\n",
              "       [<matplotlib.axes._subplots.AxesSubplot object at 0x7f2248891710>,\n",
              "        <matplotlib.axes._subplots.AxesSubplot object at 0x7f2248846c90>,\n",
              "        <matplotlib.axes._subplots.AxesSubplot object at 0x7f2248807250>],\n",
              "       [<matplotlib.axes._subplots.AxesSubplot object at 0x7f22487ba850>,\n",
              "        <matplotlib.axes._subplots.AxesSubplot object at 0x7f22487f1d10>,\n",
              "        <matplotlib.axes._subplots.AxesSubplot object at 0x7f22487f1d50>],\n",
              "       [<matplotlib.axes._subplots.AxesSubplot object at 0x7f22487b3410>,\n",
              "        <matplotlib.axes._subplots.AxesSubplot object at 0x7f224871ce10>,\n",
              "        <matplotlib.axes._subplots.AxesSubplot object at 0x7f22486de3d0>]],\n",
              "      dtype=object)"
            ]
          },
          "metadata": {
            "tags": []
          },
          "execution_count": 183
        },
        {
          "output_type": "display_data",
          "data": {
            "image/png": "[encoded data removed]",
            "text/plain": [
              "<Figure size 720x720 with 12 Axes>"
            ]
          },
          "metadata": {
            "tags": []
          }
        }
      ]
    },
    {
      "cell_type": "markdown",
      "metadata": {
        "id": "tWPSf1CJjlBh"
      },
      "source": [
        "*   Note that pChembl value is better normalized than standard value\n",
        "*   Recall that there are lots of different activity types/assays represented in the value columns. Let's split those up."
      ]
    },
    {
      "cell_type": "code",
      "metadata": {
        "colab": {
          "base_uri": "https://localhost:8080/",
          "height": 1000
        },
        "id": "AlVZM_-ihYLM",
        "outputId": "85ed3fcf-6ddd-4564-a62f-176b633ad274"
      },
      "source": [
        "chembl_types = chembl.pivot_table(index='Molecule_ChEMBL_ID',columns='Standard_Type',values='Standard_Value_nM',aggfunc='mean')\n",
        "chembl_types.hist(figsize=(13,13))"
      ],
      "execution_count": 184,
      "outputs": [
        {
          "output_type": "execute_result",
          "data": {
            "text/plain": [
              "array([[<matplotlib.axes._subplots.AxesSubplot object at 0x7f224848bb50>,\n",
              "        <matplotlib.axes._subplots.AxesSubplot object at 0x7f224844c5d0>,\n",
              "        <matplotlib.axes._subplots.AxesSubplot object at 0x7f2248464c50>,\n",
              "        <matplotlib.axes._subplots.AxesSubplot object at 0x7f224841f310>],\n",
              "       [<matplotlib.axes._subplots.AxesSubplot object at 0x7f22483d5990>,\n",
              "        <matplotlib.axes._subplots.AxesSubplot object at 0x7f224838bfd0>,\n",
              "        <matplotlib.axes._subplots.AxesSubplot object at 0x7f224834c750>,\n",
              "        <matplotlib.axes._subplots.AxesSubplot object at 0x7f2248301d10>],\n",
              "       [<matplotlib.axes._subplots.AxesSubplot object at 0x7f2248301d50>,\n",
              "        <matplotlib.axes._subplots.AxesSubplot object at 0x7f22482c4510>,\n",
              "        <matplotlib.axes._subplots.AxesSubplot object at 0x7f224823c150>,\n",
              "        <matplotlib.axes._subplots.AxesSubplot object at 0x7f22482707d0>],\n",
              "       [<matplotlib.axes._subplots.AxesSubplot object at 0x7f2248226e50>,\n",
              "        <matplotlib.axes._subplots.AxesSubplot object at 0x7f22481eb510>,\n",
              "        <matplotlib.axes._subplots.AxesSubplot object at 0x7f22481a5310>,\n",
              "        <matplotlib.axes._subplots.AxesSubplot object at 0x7f224815b890>],\n",
              "       [<matplotlib.axes._subplots.AxesSubplot object at 0x7f2248110e10>,\n",
              "        <matplotlib.axes._subplots.AxesSubplot object at 0x7f22480d23d0>,\n",
              "        <matplotlib.axes._subplots.AxesSubplot object at 0x7f2248087950>,\n",
              "        <matplotlib.axes._subplots.AxesSubplot object at 0x7f224803ced0>]],\n",
              "      dtype=object)"
            ]
          },
          "metadata": {
            "tags": []
          },
          "execution_count": 184
        },
        {
          "output_type": "display_data",
          "data": {
            "image/png": "[encoded data removed]",
            "text/plain": [
              "<Figure size 936x936 with 20 Axes>"
            ]
          },
          "metadata": {
            "tags": []
          }
        }
      ]
    },
    {
      "cell_type": "code",
      "metadata": {
        "colab": {
          "base_uri": "https://localhost:8080/",
          "height": 854
        },
        "id": "KXDN3v40hYNp",
        "outputId": "226cd161-b76d-4201-a1f6-1d54817c9581"
      },
      "source": [
        "chembl_types = chembl.pivot_table(index='Molecule_ChEMBL_ID',columns='Standard_Type',values='pChEMBL_Value',aggfunc='mean')\n",
        "chembl_types.hist(figsize=(13,13))"
      ],
      "execution_count": 185,
      "outputs": [
        {
          "output_type": "execute_result",
          "data": {
            "text/plain": [
              "array([[<matplotlib.axes._subplots.AxesSubplot object at 0x7f2247cb2d90>,\n",
              "        <matplotlib.axes._subplots.AxesSubplot object at 0x7f2247be0e90>],\n",
              "       [<matplotlib.axes._subplots.AxesSubplot object at 0x7f2247b5ca90>,\n",
              "        <matplotlib.axes._subplots.AxesSubplot object at 0x7f2247b08210>]],\n",
              "      dtype=object)"
            ]
          },
          "metadata": {
            "tags": []
          },
          "execution_count": 185
        },
        {
          "output_type": "display_data",
          "data": {
            "image/png": "[encoded data removed]",
            "text/plain": [
              "<Figure size 936x936 with 4 Axes>"
            ]
          },
          "metadata": {
            "tags": []
          }
        }
      ]
    },
    {
      "cell_type": "markdown",
      "metadata": {
        "id": "_ToCxuCF-Rpt"
      },
      "source": [
        "## DTC EDA"
      ]
    },
    {
      "cell_type": "code",
      "metadata": {
        "id": "hrEcE0NdhYP1"
      },
      "source": [
        "dtc = dtc.replace('None',np.nan)"
      ],
      "execution_count": 216,
      "outputs": []
    },
    {
      "cell_type": "code",
      "metadata": {
        "id": "X4cupsYL-Yfj"
      },
      "source": [
        "dtc['pDTC_Value'] = np.where(dtc.End_Point_Standard_Units=='NM',-np.log10(dtc.End_Point_Standard_Value/1000000000),dtc.End_Point_Standard_Value)"
      ],
      "execution_count": 217,
      "outputs": []
    },
    {
      "cell_type": "code",
      "metadata": {
        "colab": {
          "base_uri": "https://localhost:8080/",
          "height": 317
        },
        "id": "VhLa-HNaAkaL",
        "outputId": "788e2fcf-41a5-46c8-cb20-738cbafa9fc9"
      },
      "source": [
        "dtc.describe()"
      ],
      "execution_count": 218,
      "outputs": [
        {
          "output_type": "execute_result",
          "data": {
            "text/html": [
              "<div>\n",
              "<style scoped>\n",
              "    .dataframe tbody tr th:only-of-type {\n",
              "        vertical-align: middle;\n",
              "    }\n",
              "\n",
              "    .dataframe tbody tr th {\n",
              "        vertical-align: top;\n",
              "    }\n",
              "\n",
              "    .dataframe thead th {\n",
              "        text-align: right;\n",
              "    }\n",
              "</style>\n",
              "<table border=\"1\" class=\"dataframe\">\n",
              "  <thead>\n",
              "    <tr style=\"text-align: right;\">\n",
              "      <th></th>\n",
              "      <th>Max_Phase</th>\n",
              "      <th>Wild_type_or_mutant</th>\n",
              "      <th>Mutation_information</th>\n",
              "      <th>PubMed_ID</th>\n",
              "      <th>End_Point_Standard_Value</th>\n",
              "      <th>Endpoint_Mode_of_Action</th>\n",
              "      <th>Inhibitor_Type</th>\n",
              "      <th>Compound_concentration_value</th>\n",
              "      <th>Compound_concentration_value_units</th>\n",
              "      <th>Substrate_type</th>\n",
              "      <th>Substrate_Type_Standard_Relation</th>\n",
              "      <th>Substrate_Type_Standard_Value</th>\n",
              "      <th>Substrate_Type_Standard_Units</th>\n",
              "      <th>Year</th>\n",
              "      <th>Volume</th>\n",
              "      <th>Issue</th>\n",
              "      <th>Annotation_Comments</th>\n",
              "      <th>Assay_ID</th>\n",
              "      <th>DTC_Activity_ID</th>\n",
              "      <th>Record_ID</th>\n",
              "      <th>DTC_Document_ID</th>\n",
              "      <th>pDTC_Value</th>\n",
              "    </tr>\n",
              "  </thead>\n",
              "  <tbody>\n",
              "    <tr>\n",
              "      <th>count</th>\n",
              "      <td>2442.000000</td>\n",
              "      <td>0.0</td>\n",
              "      <td>0.0</td>\n",
              "      <td>2.392000e+03</td>\n",
              "      <td>2.256000e+03</td>\n",
              "      <td>0.0</td>\n",
              "      <td>0.0</td>\n",
              "      <td>0.0</td>\n",
              "      <td>0.0</td>\n",
              "      <td>0.0</td>\n",
              "      <td>0.0</td>\n",
              "      <td>0.0</td>\n",
              "      <td>0.0</td>\n",
              "      <td>2311.000000</td>\n",
              "      <td>2311.000000</td>\n",
              "      <td>2253.000000</td>\n",
              "      <td>0.0</td>\n",
              "      <td>2.311000e+03</td>\n",
              "      <td>2.442000e+03</td>\n",
              "      <td>2.442000e+03</td>\n",
              "      <td>2442.000000</td>\n",
              "      <td>2256.000000</td>\n",
              "    </tr>\n",
              "    <tr>\n",
              "      <th>mean</th>\n",
              "      <td>0.178952</td>\n",
              "      <td>NaN</td>\n",
              "      <td>NaN</td>\n",
              "      <td>1.576288e+07</td>\n",
              "      <td>4.432624e+23</td>\n",
              "      <td>NaN</td>\n",
              "      <td>NaN</td>\n",
              "      <td>NaN</td>\n",
              "      <td>NaN</td>\n",
              "      <td>NaN</td>\n",
              "      <td>NaN</td>\n",
              "      <td>NaN</td>\n",
              "      <td>NaN</td>\n",
              "      <td>2004.936824</td>\n",
              "      <td>31.982691</td>\n",
              "      <td>13.723036</td>\n",
              "      <td>NaN</td>\n",
              "      <td>3.805226e+05</td>\n",
              "      <td>3.840944e+06</td>\n",
              "      <td>1.135576e+06</td>\n",
              "      <td>27229.162981</td>\n",
              "      <td>10.536643</td>\n",
              "    </tr>\n",
              "    <tr>\n",
              "      <th>std</th>\n",
              "      <td>0.815860</td>\n",
              "      <td>NaN</td>\n",
              "      <td>NaN</td>\n",
              "      <td>5.504291e+06</td>\n",
              "      <td>2.105380e+25</td>\n",
              "      <td>NaN</td>\n",
              "      <td>NaN</td>\n",
              "      <td>NaN</td>\n",
              "      <td>NaN</td>\n",
              "      <td>NaN</td>\n",
              "      <td>NaN</td>\n",
              "      <td>NaN</td>\n",
              "      <td>NaN</td>\n",
              "      <td>5.567639</td>\n",
              "      <td>18.083708</td>\n",
              "      <td>7.049784</td>\n",
              "      <td>NaN</td>\n",
              "      <td>4.485567e+05</td>\n",
              "      <td>4.667776e+06</td>\n",
              "      <td>6.214493e+05</td>\n",
              "      <td>20532.910821</td>\n",
              "      <td>23.154210</td>\n",
              "    </tr>\n",
              "    <tr>\n",
              "      <th>min</th>\n",
              "      <td>0.000000</td>\n",
              "      <td>NaN</td>\n",
              "      <td>NaN</td>\n",
              "      <td>-1.000000e+00</td>\n",
              "      <td>-1.710000e+01</td>\n",
              "      <td>NaN</td>\n",
              "      <td>NaN</td>\n",
              "      <td>NaN</td>\n",
              "      <td>NaN</td>\n",
              "      <td>NaN</td>\n",
              "      <td>NaN</td>\n",
              "      <td>NaN</td>\n",
              "      <td>NaN</td>\n",
              "      <td>1994.000000</td>\n",
              "      <td>3.000000</td>\n",
              "      <td>1.000000</td>\n",
              "      <td>NaN</td>\n",
              "      <td>3.008400e+04</td>\n",
              "      <td>9.684000e+03</td>\n",
              "      <td>2.195000e+03</td>\n",
              "      <td>933.000000</td>\n",
              "      <td>-18.000000</td>\n",
              "    </tr>\n",
              "    <tr>\n",
              "      <th>25%</th>\n",
              "      <td>0.000000</td>\n",
              "      <td>NaN</td>\n",
              "      <td>NaN</td>\n",
              "      <td>1.135436e+07</td>\n",
              "      <td>3.100000e+01</td>\n",
              "      <td>NaN</td>\n",
              "      <td>NaN</td>\n",
              "      <td>NaN</td>\n",
              "      <td>NaN</td>\n",
              "      <td>NaN</td>\n",
              "      <td>NaN</td>\n",
              "      <td>NaN</td>\n",
              "      <td>NaN</td>\n",
              "      <td>2000.000000</td>\n",
              "      <td>16.000000</td>\n",
              "      <td>8.000000</td>\n",
              "      <td>NaN</td>\n",
              "      <td>3.434700e+04</td>\n",
              "      <td>9.643105e+05</td>\n",
              "      <td>6.146922e+05</td>\n",
              "      <td>14595.000000</td>\n",
              "      <td>5.777500</td>\n",
              "    </tr>\n",
              "    <tr>\n",
              "      <th>50%</th>\n",
              "      <td>0.000000</td>\n",
              "      <td>NaN</td>\n",
              "      <td>NaN</td>\n",
              "      <td>1.367841e+07</td>\n",
              "      <td>1.505000e+02</td>\n",
              "      <td>NaN</td>\n",
              "      <td>NaN</td>\n",
              "      <td>NaN</td>\n",
              "      <td>NaN</td>\n",
              "      <td>NaN</td>\n",
              "      <td>NaN</td>\n",
              "      <td>NaN</td>\n",
              "      <td>NaN</td>\n",
              "      <td>2003.000000</td>\n",
              "      <td>38.000000</td>\n",
              "      <td>14.000000</td>\n",
              "      <td>NaN</td>\n",
              "      <td>3.462400e+04</td>\n",
              "      <td>1.531934e+06</td>\n",
              "      <td>1.166172e+06</td>\n",
              "      <td>18073.000000</td>\n",
              "      <td>6.773169</td>\n",
              "    </tr>\n",
              "    <tr>\n",
              "      <th>75%</th>\n",
              "      <td>0.000000</td>\n",
              "      <td>NaN</td>\n",
              "      <td>NaN</td>\n",
              "      <td>2.060528e+07</td>\n",
              "      <td>1.200000e+03</td>\n",
              "      <td>NaN</td>\n",
              "      <td>NaN</td>\n",
              "      <td>NaN</td>\n",
              "      <td>NaN</td>\n",
              "      <td>NaN</td>\n",
              "      <td>NaN</td>\n",
              "      <td>NaN</td>\n",
              "      <td>NaN</td>\n",
              "      <td>2010.000000</td>\n",
              "      <td>46.000000</td>\n",
              "      <td>20.000000</td>\n",
              "      <td>NaN</td>\n",
              "      <td>6.582380e+05</td>\n",
              "      <td>3.530904e+06</td>\n",
              "      <td>1.662460e+06</td>\n",
              "      <td>44212.000000</td>\n",
              "      <td>7.762287</td>\n",
              "    </tr>\n",
              "    <tr>\n",
              "      <th>max</th>\n",
              "      <td>4.000000</td>\n",
              "      <td>NaN</td>\n",
              "      <td>NaN</td>\n",
              "      <td>2.783992e+07</td>\n",
              "      <td>1.000000e+27</td>\n",
              "      <td>NaN</td>\n",
              "      <td>NaN</td>\n",
              "      <td>NaN</td>\n",
              "      <td>NaN</td>\n",
              "      <td>NaN</td>\n",
              "      <td>NaN</td>\n",
              "      <td>NaN</td>\n",
              "      <td>NaN</td>\n",
              "      <td>2016.000000</td>\n",
              "      <td>104.000000</td>\n",
              "      <td>26.000000</td>\n",
              "      <td>NaN</td>\n",
              "      <td>1.579181e+06</td>\n",
              "      <td>1.507904e+07</td>\n",
              "      <td>2.114304e+06</td>\n",
              "      <td>70168.000000</td>\n",
              "      <td>826.000000</td>\n",
              "    </tr>\n",
              "  </tbody>\n",
              "</table>\n",
              "</div>"
            ],
            "text/plain": [
              "         Max_Phase  Wild_type_or_mutant  Mutation_information     PubMed_ID  \\\n",
              "count  2442.000000                  0.0                   0.0  2.392000e+03   \n",
              "mean      0.178952                  NaN                   NaN  1.576288e+07   \n",
              "std       0.815860                  NaN                   NaN  5.504291e+06   \n",
              "min       0.000000                  NaN                   NaN -1.000000e+00   \n",
              "25%       0.000000                  NaN                   NaN  1.135436e+07   \n",
              "50%       0.000000                  NaN                   NaN  1.367841e+07   \n",
              "75%       0.000000                  NaN                   NaN  2.060528e+07   \n",
              "max       4.000000                  NaN                   NaN  2.783992e+07   \n",
              "\n",
              "       End_Point_Standard_Value  Endpoint_Mode_of_Action  Inhibitor_Type  \\\n",
              "count              2.256000e+03                      0.0             0.0   \n",
              "mean               4.432624e+23                      NaN             NaN   \n",
              "std                2.105380e+25                      NaN             NaN   \n",
              "min               -1.710000e+01                      NaN             NaN   \n",
              "25%                3.100000e+01                      NaN             NaN   \n",
              "50%                1.505000e+02                      NaN             NaN   \n",
              "75%                1.200000e+03                      NaN             NaN   \n",
              "max                1.000000e+27                      NaN             NaN   \n",
              "\n",
              "       Compound_concentration_value  Compound_concentration_value_units  \\\n",
              "count                           0.0                                 0.0   \n",
              "mean                            NaN                                 NaN   \n",
              "std                             NaN                                 NaN   \n",
              "min                             NaN                                 NaN   \n",
              "25%                             NaN                                 NaN   \n",
              "50%                             NaN                                 NaN   \n",
              "75%                             NaN                                 NaN   \n",
              "max                             NaN                                 NaN   \n",
              "\n",
              "       Substrate_type  Substrate_Type_Standard_Relation  \\\n",
              "count             0.0                               0.0   \n",
              "mean              NaN                               NaN   \n",
              "std               NaN                               NaN   \n",
              "min               NaN                               NaN   \n",
              "25%               NaN                               NaN   \n",
              "50%               NaN                               NaN   \n",
              "75%               NaN                               NaN   \n",
              "max               NaN                               NaN   \n",
              "\n",
              "       Substrate_Type_Standard_Value  Substrate_Type_Standard_Units  \\\n",
              "count                            0.0                            0.0   \n",
              "mean                             NaN                            NaN   \n",
              "std                              NaN                            NaN   \n",
              "min                              NaN                            NaN   \n",
              "25%                              NaN                            NaN   \n",
              "50%                              NaN                            NaN   \n",
              "75%                              NaN                            NaN   \n",
              "max                              NaN                            NaN   \n",
              "\n",
              "              Year       Volume        Issue  Annotation_Comments  \\\n",
              "count  2311.000000  2311.000000  2253.000000                  0.0   \n",
              "mean   2004.936824    31.982691    13.723036                  NaN   \n",
              "std       5.567639    18.083708     7.049784                  NaN   \n",
              "min    1994.000000     3.000000     1.000000                  NaN   \n",
              "25%    2000.000000    16.000000     8.000000                  NaN   \n",
              "50%    2003.000000    38.000000    14.000000                  NaN   \n",
              "75%    2010.000000    46.000000    20.000000                  NaN   \n",
              "max    2016.000000   104.000000    26.000000                  NaN   \n",
              "\n",
              "           Assay_ID  DTC_Activity_ID     Record_ID  DTC_Document_ID  \\\n",
              "count  2.311000e+03     2.442000e+03  2.442000e+03      2442.000000   \n",
              "mean   3.805226e+05     3.840944e+06  1.135576e+06     27229.162981   \n",
              "std    4.485567e+05     4.667776e+06  6.214493e+05     20532.910821   \n",
              "min    3.008400e+04     9.684000e+03  2.195000e+03       933.000000   \n",
              "25%    3.434700e+04     9.643105e+05  6.146922e+05     14595.000000   \n",
              "50%    3.462400e+04     1.531934e+06  1.166172e+06     18073.000000   \n",
              "75%    6.582380e+05     3.530904e+06  1.662460e+06     44212.000000   \n",
              "max    1.579181e+06     1.507904e+07  2.114304e+06     70168.000000   \n",
              "\n",
              "        pDTC_Value  \n",
              "count  2256.000000  \n",
              "mean     10.536643  \n",
              "std      23.154210  \n",
              "min     -18.000000  \n",
              "25%       5.777500  \n",
              "50%       6.773169  \n",
              "75%       7.762287  \n",
              "max     826.000000  "
            ]
          },
          "metadata": {
            "tags": []
          },
          "execution_count": 218
        }
      ]
    },
    {
      "cell_type": "code",
      "metadata": {
        "colab": {
          "base_uri": "https://localhost:8080/",
          "height": 397
        },
        "id": "xjF5-CPaAkcX",
        "outputId": "0a1be092-befb-4fb5-9177-4d73b895df1d"
      },
      "source": [
        "numeric_cols=['Max_Phase', 'End_Point_Standard_Value']\n",
        "dtc[numeric_cols].hist(figsize=(10,5))"
      ],
      "execution_count": 219,
      "outputs": [
        {
          "output_type": "execute_result",
          "data": {
            "text/plain": [
              "array([[<matplotlib.axes._subplots.AxesSubplot object at 0x7f2246aa5e50>,\n",
              "        <matplotlib.axes._subplots.AxesSubplot object at 0x7f2246a9d350>]],\n",
              "      dtype=object)"
            ]
          },
          "metadata": {
            "tags": []
          },
          "execution_count": 219
        },
        {
          "output_type": "display_data",
          "data": {
            "image/png": "[encoded data removed]",
            "text/plain": [
              "<Figure size 720x360 with 2 Axes>"
            ]
          },
          "metadata": {
            "tags": []
          }
        }
      ]
    },
    {
      "cell_type": "code",
      "metadata": {
        "colab": {
          "base_uri": "https://localhost:8080/",
          "height": 895
        },
        "id": "FwP1u1WAAkew",
        "outputId": "10aae85a-cf94-4d6a-a003-faad4833025c"
      },
      "source": [
        "dtc_types=dtc.pivot_table(index = 'Compound_ID', columns = 'End_Point_Standard_Type', values='End_Point_Standard_Value', aggfunc='mean')\n",
        "dtc_types.hist(figsize=(10,10))"
      ],
      "execution_count": 220,
      "outputs": [
        {
          "output_type": "execute_result",
          "data": {
            "text/plain": [
              "array([[<matplotlib.axes._subplots.AxesSubplot object at 0x7f224d2b37d0>,\n",
              "        <matplotlib.axes._subplots.AxesSubplot object at 0x7f2248316650>,\n",
              "        <matplotlib.axes._subplots.AxesSubplot object at 0x7f2248451410>,\n",
              "        <matplotlib.axes._subplots.AxesSubplot object at 0x7f224a05dc10>],\n",
              "       [<matplotlib.axes._subplots.AxesSubplot object at 0x7f22465f0f10>,\n",
              "        <matplotlib.axes._subplots.AxesSubplot object at 0x7f22465a85d0>,\n",
              "        <matplotlib.axes._subplots.AxesSubplot object at 0x7f2246559cd0>,\n",
              "        <matplotlib.axes._subplots.AxesSubplot object at 0x7f22465142d0>],\n",
              "       [<matplotlib.axes._subplots.AxesSubplot object at 0x7f2246514310>,\n",
              "        <matplotlib.axes._subplots.AxesSubplot object at 0x7f22464c4a90>,\n",
              "        <matplotlib.axes._subplots.AxesSubplot object at 0x7f224643c6d0>,\n",
              "        <matplotlib.axes._subplots.AxesSubplot object at 0x7f224646fd50>],\n",
              "       [<matplotlib.axes._subplots.AxesSubplot object at 0x7f2246432410>,\n",
              "        <matplotlib.axes._subplots.AxesSubplot object at 0x7f22463e8a90>,\n",
              "        <matplotlib.axes._subplots.AxesSubplot object at 0x7f22463aa150>,\n",
              "        <matplotlib.axes._subplots.AxesSubplot object at 0x7f224635f7d0>]],\n",
              "      dtype=object)"
            ]
          },
          "metadata": {
            "tags": []
          },
          "execution_count": 220
        },
        {
          "output_type": "display_data",
          "data": {
            "image/png": "[encoded data removed]",
            "text/plain": [
              "<Figure size 720x720 with 16 Axes>"
            ]
          },
          "metadata": {
            "tags": []
          }
        }
      ]
    },
    {
      "cell_type": "code",
      "metadata": {
        "colab": {
          "base_uri": "https://localhost:8080/",
          "height": 895
        },
        "id": "CitaDix0AkhO",
        "outputId": "d73db9b1-a202-4bef-e298-a9ad0d500518"
      },
      "source": [
        "dtc_types=dtc.pivot_table(index = 'Compound_ID', columns = 'End_Point_Standard_Type', values='pDTC_Value', aggfunc='mean')\n",
        "dtc_types.hist(figsize=(10,10))"
      ],
      "execution_count": 221,
      "outputs": [
        {
          "output_type": "execute_result",
          "data": {
            "text/plain": [
              "array([[<matplotlib.axes._subplots.AxesSubplot object at 0x7f224629ead0>,\n",
              "        <matplotlib.axes._subplots.AxesSubplot object at 0x7f2246114190>,\n",
              "        <matplotlib.axes._subplots.AxesSubplot object at 0x7f2245f3df10>,\n",
              "        <matplotlib.axes._subplots.AxesSubplot object at 0x7f2245efa4d0>],\n",
              "       [<matplotlib.axes._subplots.AxesSubplot object at 0x7f2245f2ea50>,\n",
              "        <matplotlib.axes._subplots.AxesSubplot object at 0x7f2245ed8b10>,\n",
              "        <matplotlib.axes._subplots.AxesSubplot object at 0x7f2245ea4610>,\n",
              "        <matplotlib.axes._subplots.AxesSubplot object at 0x7f2245e5aad0>],\n",
              "       [<matplotlib.axes._subplots.AxesSubplot object at 0x7f2245e5ab10>,\n",
              "        <matplotlib.axes._subplots.AxesSubplot object at 0x7f2245e1c1d0>,\n",
              "        <matplotlib.axes._subplots.AxesSubplot object at 0x7f2245d8bd50>,\n",
              "        <matplotlib.axes._subplots.AxesSubplot object at 0x7f2245d47150>],\n",
              "       [<matplotlib.axes._subplots.AxesSubplot object at 0x7f2245cfc6d0>,\n",
              "        <matplotlib.axes._subplots.AxesSubplot object at 0x7f2245d2fc50>,\n",
              "        <matplotlib.axes._subplots.AxesSubplot object at 0x7f2245cf2210>,\n",
              "        <matplotlib.axes._subplots.AxesSubplot object at 0x7f2245ca07d0>]],\n",
              "      dtype=object)"
            ]
          },
          "metadata": {
            "tags": []
          },
          "execution_count": 221
        },
        {
          "output_type": "display_data",
          "data": {
            "image/png": "[encoded data removed]",
            "text/plain": [
              "<Figure size 720x720 with 16 Axes>"
            ]
          },
          "metadata": {
            "tags": []
          }
        }
      ]
    },
    {
      "cell_type": "markdown",
      "metadata": {
        "id": "i_kA_xogBOVJ"
      },
      "source": [
        "## Excape EDA"
      ]
    },
    {
      "cell_type": "code",
      "metadata": {
        "id": "4kpb6lU5Akjm"
      },
      "source": [
        "excape=excape.replace('None',np.nan)"
      ],
      "execution_count": 192,
      "outputs": []
    },
    {
      "cell_type": "code",
      "metadata": {
        "colab": {
          "base_uri": "https://localhost:8080/",
          "height": 617
        },
        "id": "68o7nyxjAkl3",
        "outputId": "6ee69c99-ab60-4dbe-da99-fa3c3e1473f9"
      },
      "source": [
        "display(excape.describe())\n",
        "excape.pXC50.hist(figsize=(5,5))"
      ],
      "execution_count": 193,
      "outputs": [
        {
          "output_type": "display_data",
          "data": {
            "text/html": [
              "<div>\n",
              "<style scoped>\n",
              "    .dataframe tbody tr th:only-of-type {\n",
              "        vertical-align: middle;\n",
              "    }\n",
              "\n",
              "    .dataframe tbody tr th {\n",
              "        vertical-align: top;\n",
              "    }\n",
              "\n",
              "    .dataframe thead th {\n",
              "        text-align: right;\n",
              "    }\n",
              "</style>\n",
              "<table border=\"1\" class=\"dataframe\">\n",
              "  <thead>\n",
              "    <tr style=\"text-align: right;\">\n",
              "      <th></th>\n",
              "      <th>Entrez_ID</th>\n",
              "      <th>pXC50</th>\n",
              "      <th>Original_Assay_ID</th>\n",
              "      <th>Tax_ID</th>\n",
              "      <th>Ortholog_Group</th>\n",
              "    </tr>\n",
              "  </thead>\n",
              "  <tbody>\n",
              "    <tr>\n",
              "      <th>count</th>\n",
              "      <td>1254.000000</td>\n",
              "      <td>1245.000000</td>\n",
              "      <td>1.254000e+03</td>\n",
              "      <td>1254.000000</td>\n",
              "      <td>1254.0</td>\n",
              "    </tr>\n",
              "    <tr>\n",
              "      <th>mean</th>\n",
              "      <td>4534.523126</td>\n",
              "      <td>6.974847</td>\n",
              "      <td>3.524904e+05</td>\n",
              "      <td>9699.133971</td>\n",
              "      <td>93.0</td>\n",
              "    </tr>\n",
              "    <tr>\n",
              "      <th>std</th>\n",
              "      <td>9286.174553</td>\n",
              "      <td>1.056244</td>\n",
              "      <td>3.497069e+05</td>\n",
              "      <td>197.117665</td>\n",
              "      <td>0.0</td>\n",
              "    </tr>\n",
              "    <tr>\n",
              "      <th>min</th>\n",
              "      <td>147.000000</td>\n",
              "      <td>3.870000</td>\n",
              "      <td>3.227400e+04</td>\n",
              "      <td>9606.000000</td>\n",
              "      <td>93.0</td>\n",
              "    </tr>\n",
              "    <tr>\n",
              "      <th>25%</th>\n",
              "      <td>147.000000</td>\n",
              "      <td>6.240000</td>\n",
              "      <td>3.434400e+04</td>\n",
              "      <td>9606.000000</td>\n",
              "      <td>93.0</td>\n",
              "    </tr>\n",
              "    <tr>\n",
              "      <th>50%</th>\n",
              "      <td>147.000000</td>\n",
              "      <td>6.900000</td>\n",
              "      <td>2.908670e+05</td>\n",
              "      <td>9606.000000</td>\n",
              "      <td>93.0</td>\n",
              "    </tr>\n",
              "    <tr>\n",
              "      <th>75%</th>\n",
              "      <td>147.000000</td>\n",
              "      <td>7.620000</td>\n",
              "      <td>6.634680e+05</td>\n",
              "      <td>9606.000000</td>\n",
              "      <td>93.0</td>\n",
              "    </tr>\n",
              "    <tr>\n",
              "      <th>max</th>\n",
              "      <td>24173.000000</td>\n",
              "      <td>10.100000</td>\n",
              "      <td>1.368306e+06</td>\n",
              "      <td>10116.000000</td>\n",
              "      <td>93.0</td>\n",
              "    </tr>\n",
              "  </tbody>\n",
              "</table>\n",
              "</div>"
            ],
            "text/plain": [
              "          Entrez_ID        pXC50  Original_Assay_ID        Tax_ID  \\\n",
              "count   1254.000000  1245.000000       1.254000e+03   1254.000000   \n",
              "mean    4534.523126     6.974847       3.524904e+05   9699.133971   \n",
              "std     9286.174553     1.056244       3.497069e+05    197.117665   \n",
              "min      147.000000     3.870000       3.227400e+04   9606.000000   \n",
              "25%      147.000000     6.240000       3.434400e+04   9606.000000   \n",
              "50%      147.000000     6.900000       2.908670e+05   9606.000000   \n",
              "75%      147.000000     7.620000       6.634680e+05   9606.000000   \n",
              "max    24173.000000    10.100000       1.368306e+06  10116.000000   \n",
              "\n",
              "       Ortholog_Group  \n",
              "count          1254.0  \n",
              "mean             93.0  \n",
              "std               0.0  \n",
              "min              93.0  \n",
              "25%              93.0  \n",
              "50%              93.0  \n",
              "75%              93.0  \n",
              "max              93.0  "
            ]
          },
          "metadata": {
            "tags": []
          }
        },
        {
          "output_type": "execute_result",
          "data": {
            "text/plain": [
              "<matplotlib.axes._subplots.AxesSubplot at 0x7f2246b387d0>"
            ]
          },
          "metadata": {
            "tags": []
          },
          "execution_count": 193
        },
        {
          "output_type": "display_data",
          "data": {
            "image/png": "[encoded data removed]",
            "text/plain": [
              "<Figure size 360x360 with 1 Axes>"
            ]
          },
          "metadata": {
            "tags": []
          }
        }
      ]
    },
    {
      "cell_type": "markdown",
      "metadata": {
        "id": "VdtGDPhzClbw"
      },
      "source": [
        "## Compare pResponse values across ChEMBL, DTC and Excape-DB"
      ]
    },
    {
      "cell_type": "code",
      "metadata": {
        "colab": {
          "base_uri": "https://localhost:8080/",
          "height": 334
        },
        "id": "CF0IgDsEFmcq",
        "outputId": "a6d31adb-2642-41da-c1af-5997b677e60e"
      },
      "source": [
        "fig, ax = plt.subplots(1,1,figsize = (5,5))\n",
        "sns.distplot(chembl.pChEMBL_Value, ax=ax)\n",
        "sns.distplot(dtc.pDTC_Value, ax=ax)\n",
        "sns.distplot(excape.pXC50, ax=ax);"
      ],
      "execution_count": 194,
      "outputs": [
        {
          "output_type": "display_data",
          "data": {
            "image/png": "[encoded data removed]",
            "text/plain": [
              "<Figure size 360x360 with 1 Axes>"
            ]
          },
          "metadata": {
            "tags": []
          }
        }
      ]
    },
    {
      "cell_type": "code",
      "metadata": {
        "colab": {
          "base_uri": "https://localhost:8080/",
          "height": 352
        },
        "id": "Q15NIrfeCk9k",
        "outputId": "04071542-4dde-45b8-c6b7-0159f7c30a04"
      },
      "source": [
        "fig, ax = plt.subplots(1,1,figsize = (5,5))\n",
        "sns.distplot(chembl.pChEMBL_Value, ax=ax)\n"
      ],
      "execution_count": 195,
      "outputs": [
        {
          "output_type": "execute_result",
          "data": {
            "text/plain": [
              "<matplotlib.axes._subplots.AxesSubplot at 0x7f224698ff10>"
            ]
          },
          "metadata": {
            "tags": []
          },
          "execution_count": 195
        },
        {
          "output_type": "display_data",
          "data": {
            "image/png": "[encoded data removed]",
            "text/plain": [
              "<Figure size 360x360 with 1 Axes>"
            ]
          },
          "metadata": {
            "tags": []
          }
        }
      ]
    },
    {
      "cell_type": "code",
      "metadata": {
        "colab": {
          "base_uri": "https://localhost:8080/",
          "height": 352
        },
        "id": "P0mKmZ0qClAY",
        "outputId": "96384c23-8cfa-4042-8232-964cac536f2f"
      },
      "source": [
        "fig, ax = plt.subplots(1,1,figsize = (5,5))\n",
        "sns.distplot(dtc.pDTC_Value, ax=ax)"
      ],
      "execution_count": 196,
      "outputs": [
        {
          "output_type": "execute_result",
          "data": {
            "text/plain": [
              "<matplotlib.axes._subplots.AxesSubplot at 0x7f2246b70250>"
            ]
          },
          "metadata": {
            "tags": []
          },
          "execution_count": 196
        },
        {
          "output_type": "display_data",
          "data": {
            "image/png": "[encoded data removed]",
            "text/plain": [
              "<Figure size 360x360 with 1 Axes>"
            ]
          },
          "metadata": {
            "tags": []
          }
        }
      ]
    },
    {
      "cell_type": "code",
      "metadata": {
        "colab": {
          "base_uri": "https://localhost:8080/",
          "height": 351
        },
        "id": "sNCpdDjTClDs",
        "outputId": "50788d9e-6637-46e5-989f-92054e4d49ec"
      },
      "source": [
        "fig, ax = plt.subplots(1,1,figsize = (5,5))\n",
        "sns.distplot(excape.pXC50, ax=ax)"
      ],
      "execution_count": 197,
      "outputs": [
        {
          "output_type": "execute_result",
          "data": {
            "text/plain": [
              "<matplotlib.axes._subplots.AxesSubplot at 0x7f2246827650>"
            ]
          },
          "metadata": {
            "tags": []
          },
          "execution_count": 197
        },
        {
          "output_type": "display_data",
          "data": {
            "image/png": "[encoded data removed]",
            "text/plain": [
              "<Figure size 360x360 with 1 Axes>"
            ]
          },
          "metadata": {
            "tags": []
          }
        }
      ]
    },
    {
      "cell_type": "markdown",
      "metadata": {
        "id": "pFl-oj44GGhi"
      },
      "source": [
        "# Analysis\n",
        "\n",
        "I would model either pXC50 or pKI values. They are the most abundant in the dataset and commonly used for modeling. pKI is more normally distributed, but pXC50 values allow inclusion of excape data.\n",
        "\n",
        "According to some sources, these two datapoints can be combined in various ways, as well, but that's beyond the scope of this class.\n",
        "\n",
        "I would choose a reasonable IC50 concentration to use as a threshold (perhaps 10uM, or consult with a scientist), and anything with an IC50 above that threshold is inactive (you need more drug to get activity) and IC50s below this threshold is active (you need less drug for activity, meaning the compound is MORE active per unit)\n",
        "\n"
      ]
    },
    {
      "cell_type": "markdown",
      "metadata": {
        "id": "YzKvxJAgGfk0"
      },
      "source": [
        "## Get SMILES for DTC data"
      ]
    },
    {
      "cell_type": "code",
      "metadata": {
        "colab": {
          "resources": {
            "http://localhost:8080/nbextensions/google.colab/files.js": {
              "data": "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",
              "ok": true,
              "headers": [
                [
                  "content-type",
                  "application/javascript"
                ]
              ],
              "status": 200,
              "status_text": ""
            }
          },
          "base_uri": "https://localhost:8080/",
          "height": 76
        },
        "id": "SoGf8r27Ge_G",
        "outputId": "93d4126b-2fde-4908-82b2-e969f1aad449"
      },
      "source": [
        "uploaded = files.upload()"
      ],
      "execution_count": 254,
      "outputs": [
        {
          "output_type": "display_data",
          "data": {
            "text/html": [
              "\n",
              "     <input type=\"file\" id=\"files-6635ed1a-b6b7-47d6-bbfb-da5d58858d42\" name=\"files[]\" multiple disabled\n",
              "        style=\"border:none\" />\n",
              "     <output id=\"result-6635ed1a-b6b7-47d6-bbfb-da5d58858d42\">\n",
              "      Upload widget is only available when the cell has been executed in the\n",
              "      current browser session. Please rerun this cell to enable.\n",
              "      </output>\n",
              "      <script src=\"/nbextensions/google.colab/files.js\"></script> "
            ],
            "text/plain": [
              "<IPython.core.display.HTML object>"
            ]
          },
          "metadata": {
            "tags": []
          }
        },
        {
          "output_type": "stream",
          "text": [
            "Saving DTC_smiles.txt to DTC_smiles.txt\n"
          ],
          "name": "stdout"
        }
      ]
    },
    {
      "cell_type": "code",
      "metadata": {
        "id": "IPSNPSV8ClF8"
      },
      "source": [
        "dtc_smiles = pd.read_csv(io.StringIO(uploaded['DTC_smiles.txt'].decode('utf-8')),sep='\\t',header=None)"
      ],
      "execution_count": 256,
      "outputs": []
    },
    {
      "cell_type": "code",
      "metadata": {
        "id": "IyRiufeuClIt"
      },
      "source": [
        "dtc_smiles = dtc_smiles.rename(columns={0:'ChEMBL_ID',1:'SMILES'})"
      ],
      "execution_count": 257,
      "outputs": []
    },
    {
      "cell_type": "code",
      "metadata": {
        "id": "Wu2saEQ2ClLR"
      },
      "source": [
        "dtc['SMILES'] = dtc['Compound_ID'].map(dict(zip(dtc_smiles.ChEMBL_ID, dtc_smiles.SMILES)))"
      ],
      "execution_count": 258,
      "outputs": []
    },
    {
      "cell_type": "code",
      "metadata": {
        "id": "msZ3L1MBClOV",
        "colab": {
          "base_uri": "https://localhost:8080/"
        },
        "outputId": "8cfce892-64ff-4e38-afa6-e7316bea1b5c"
      },
      "source": [
        "print(dtc['SMILES'].isna().sum())\n",
        "print(chembl['Smiles'].isna().sum())\n",
        "print(excape['SMILES'].isna().sum())"
      ],
      "execution_count": 259,
      "outputs": [
        {
          "output_type": "stream",
          "text": [
            "21\n",
            "0\n",
            "0\n"
          ],
          "name": "stdout"
        }
      ]
    },
    {
      "cell_type": "markdown",
      "metadata": {
        "id": "viPNnWbFKUEy"
      },
      "source": [
        "## EDA: Examine compound overlaps¶"
      ]
    },
    {
      "cell_type": "code",
      "metadata": {
        "id": "gUNwxcOOAkof"
      },
      "source": [
        "from matplotlib_venn import venn3\n",
        "from matplotlib_venn import venn2"
      ],
      "execution_count": 203,
      "outputs": []
    },
    {
      "cell_type": "code",
      "metadata": {
        "colab": {
          "base_uri": "https://localhost:8080/",
          "height": 337
        },
        "id": "LXu0x9igyfcZ",
        "outputId": "7c0256b7-208e-4ec4-d11b-24bdecbf5f7a"
      },
      "source": [
        "venn3([set(chembl.Smiles),set(dtc.SMILES),set(excape.SMILES)],set_labels=['ChEMBL','DTC','EXCAPE'])"
      ],
      "execution_count": 260,
      "outputs": [
        {
          "output_type": "execute_result",
          "data": {
            "text/plain": [
              "<matplotlib_venn._common.VennDiagram at 0x7f22460ec150>"
            ]
          },
          "metadata": {
            "tags": []
          },
          "execution_count": 260
        },
        {
          "output_type": "display_data",
          "data": {
            "image/png": "[encoded data removed]",
            "text/plain": [
              "<Figure size 720x720 with 1 Axes>"
            ]
          },
          "metadata": {
            "tags": []
          }
        }
      ]
    },
    {
      "cell_type": "code",
      "metadata": {
        "colab": {
          "base_uri": "https://localhost:8080/",
          "height": 591
        },
        "id": "ocwcAtGdyflA",
        "outputId": "35d6f993-27a3-479e-b2d6-73518b581a88"
      },
      "source": [
        "venn2([set(chembl.Molecule_ChEMBL_ID),set(dtc.Compound_ID)],set_labels=['ChEMBL','DTC'])"
      ],
      "execution_count": 261,
      "outputs": [
        {
          "output_type": "execute_result",
          "data": {
            "text/plain": [
              "<matplotlib_venn._common.VennDiagram at 0x7f2245aa5a10>"
            ]
          },
          "metadata": {
            "tags": []
          },
          "execution_count": 261
        },
        {
          "output_type": "display_data",
          "data": {
            "image/png": "[encoded data removed]",
            "text/plain": [
              "<Figure size 720x720 with 1 Axes>"
            ]
          },
          "metadata": {
            "tags": []
          }
        }
      ]
    },
    {
      "cell_type": "markdown",
      "metadata": {
        "id": "LJqXnOYSzZN6"
      },
      "source": [
        "\n",
        "The chembl IDs overlap, why not the smiles strings? One explanation is that each database's SMILES string representations are slightly different. Answer? STANDARDIZE the smiles strings."
      ]
    },
    {
      "cell_type": "code",
      "metadata": {
        "colab": {
          "base_uri": "https://localhost:8080/"
        },
        "id": "1kPqSUz-yft2",
        "outputId": "5377276e-94fc-429e-d6b2-42ba07683276"
      },
      "source": [
        "chembl['base_rdkit_smiles'] = chembl.Smiles.apply(curate_data.base_smiles_from_smiles)\n",
        "print(len(chembl.Smiles))\n",
        "print(len(chembl.Smiles.unique()))\n",
        "print(len(chembl.base_rdkit_smiles.unique()))"
      ],
      "execution_count": 206,
      "outputs": [
        {
          "output_type": "stream",
          "text": [
            "2791\n",
            "2140\n",
            "2129\n"
          ],
          "name": "stdout"
        }
      ]
    },
    {
      "cell_type": "code",
      "metadata": {
        "id": "8VX_vjB_119d"
      },
      "source": [
        "chembl=chembl[~chembl.base_rdkit_smiles.isna()]"
      ],
      "execution_count": 207,
      "outputs": []
    },
    {
      "cell_type": "code",
      "metadata": {
        "id": "NoNF13oqH0qA"
      },
      "source": [
        "dtc"
      ],
      "execution_count": null,
      "outputs": []
    },
    {
      "cell_type": "code",
      "metadata": {
        "id": "-Gu3qDe_12FD"
      },
      "source": [
        "dtc['base_rdkit_smiles'] = dtc.SMILES.apply(curate_data.base_smiles_from_smiles)\n",
        "dtc=dtc.replace('',np.nan)\n",
        "dtc = dtc[~dtc.base_rdkit_smiles.isna()]"
      ],
      "execution_count": 264,
      "outputs": []
    },
    {
      "cell_type": "code",
      "metadata": {
        "id": "6UoMqGx5KYX3"
      },
      "source": [
        "dtc"
      ],
      "execution_count": null,
      "outputs": []
    },
    {
      "cell_type": "code",
      "metadata": {
        "colab": {
          "base_uri": "https://localhost:8080/"
        },
        "id": "2QbLjegwGulx",
        "outputId": "5caf6dd9-8ef3-4c86-d516-9cb93b7fa437"
      },
      "source": [
        "len(dtc[dtc.base_rdkit_smiles.isna()])"
      ],
      "execution_count": 266,
      "outputs": [
        {
          "output_type": "execute_result",
          "data": {
            "text/plain": [
              "0"
            ]
          },
          "metadata": {
            "tags": []
          },
          "execution_count": 266
        }
      ]
    },
    {
      "cell_type": "code",
      "metadata": {
        "id": "oTo05r6w12Hu"
      },
      "source": [
        "excape['base_rdkit_smiles'] = excape.SMILES.apply(curate_data.base_smiles_from_smiles)"
      ],
      "execution_count": 234,
      "outputs": []
    },
    {
      "cell_type": "code",
      "metadata": {
        "colab": {
          "base_uri": "https://localhost:8080/",
          "height": 49
        },
        "id": "Kq5FNLei12K-",
        "outputId": "ca897623-8fe1-43d4-b1bc-6cc3bcfa3c4c"
      },
      "source": [
        "excape = excape.replace('',np.nan)\n",
        "excape[excape.base_rdkit_smiles.isna()]"
      ],
      "execution_count": 235,
      "outputs": [
        {
          "output_type": "execute_result",
          "data": {
            "text/html": [
              "<div>\n",
              "<style scoped>\n",
              "    .dataframe tbody tr th:only-of-type {\n",
              "        vertical-align: middle;\n",
              "    }\n",
              "\n",
              "    .dataframe tbody tr th {\n",
              "        vertical-align: top;\n",
              "    }\n",
              "\n",
              "    .dataframe thead th {\n",
              "        text-align: right;\n",
              "    }\n",
              "</style>\n",
              "<table border=\"1\" class=\"dataframe\">\n",
              "  <thead>\n",
              "    <tr style=\"text-align: right;\">\n",
              "      <th></th>\n",
              "      <th>Ambit_InchiKey</th>\n",
              "      <th>Original_Entry_ID</th>\n",
              "      <th>Entrez_ID</th>\n",
              "      <th>Activity_Flag</th>\n",
              "      <th>pXC50</th>\n",
              "      <th>DB</th>\n",
              "      <th>Original_Assay_ID</th>\n",
              "      <th>Tax_ID</th>\n",
              "      <th>Gene_Symbol</th>\n",
              "      <th>Ortholog_Group</th>\n",
              "      <th>SMILES</th>\n",
              "      <th>base_rdkit_smiles</th>\n",
              "    </tr>\n",
              "  </thead>\n",
              "  <tbody>\n",
              "  </tbody>\n",
              "</table>\n",
              "</div>"
            ],
            "text/plain": [
              "Empty DataFrame\n",
              "Columns: [Ambit_InchiKey, Original_Entry_ID, Entrez_ID, Activity_Flag, pXC50, DB, Original_Assay_ID, Tax_ID, Gene_Symbol, Ortholog_Group, SMILES, base_rdkit_smiles]\n",
              "Index: []"
            ]
          },
          "metadata": {
            "tags": []
          },
          "execution_count": 235
        }
      ]
    },
    {
      "cell_type": "markdown",
      "metadata": {
        "id": "_gDrlFUM36Wf"
      },
      "source": [
        "## EDA Curation data\n",
        "\n",
        "* First let us curate the data\n",
        "* Examine new compound overlaps\n",
        "* Examine final response column distributions\n",
        "* Filter for\n",
        " *      large compounds\n",
        " * too high / too low pXC50 values\n",
        "* double check for no NA values left\n",
        "* save final curated dataset for further processing\n",
        "\n",
        "\n"
      ]
    },
    {
      "cell_type": "code",
      "metadata": {
        "id": "1QfgkiWt22Ae"
      },
      "source": [
        "chembl.to_csv(\"/content/ChEMBL_SMILES_std.csv\")\n",
        "dtc.to_csv(\"/content/DTC_SMILES_std.csv\")\n",
        "excape.to_csv(\"/content/Excape_SMILES_std.csv\")"
      ],
      "execution_count": 267,
      "outputs": []
    },
    {
      "cell_type": "code",
      "metadata": {
        "id": "HKOn9mtT22C6"
      },
      "source": [
        "chembl['pChEMBL_Value_nM'] = -np.log10(chembl.Standard_Value_nM/1000000000)"
      ],
      "execution_count": 238,
      "outputs": []
    },
    {
      "cell_type": "code",
      "metadata": {
        "id": "FYpwSa6i22Ff"
      },
      "source": [
        "vals = ['EC50', 'IC50', 'pIC50']\n",
        "chembl=chembl[chembl.Standard_Type.isin(vals)]\n",
        "chembl=chembl.dropna(axis=0, subset = ['pChEMBL_Value_nM','base_rdkit_smiles'])"
      ],
      "execution_count": 239,
      "outputs": []
    },
    {
      "cell_type": "code",
      "metadata": {
        "colab": {
          "base_uri": "https://localhost:8080/",
          "height": 204
        },
        "id": "4ew_Tmiv22IU",
        "outputId": "d49fb42d-898f-4411-9085-a7b783267a44"
      },
      "source": [
        "chembl['pRelation'] = chembl.Standard_Relation\n",
        "chembl['pRelation'] = np.where(chembl.Standard_Relation == \"'<'\", \">\", chembl.pRelation)\n",
        "chembl['pRelation'] = np.where(chembl.Standard_Relation == \"'>'\", \"<\", chembl.pRelation)\n",
        "chembl['pRelation'] = np.where(chembl.Standard_Relation == \"'='\", \"=\", chembl.pRelation)\n",
        "chembl[['Standard_Relation', 'pRelation']].head()"
      ],
      "execution_count": 240,
      "outputs": [
        {
          "output_type": "execute_result",
          "data": {
            "text/html": [
              "<div>\n",
              "<style scoped>\n",
              "    .dataframe tbody tr th:only-of-type {\n",
              "        vertical-align: middle;\n",
              "    }\n",
              "\n",
              "    .dataframe tbody tr th {\n",
              "        vertical-align: top;\n",
              "    }\n",
              "\n",
              "    .dataframe thead th {\n",
              "        text-align: right;\n",
              "    }\n",
              "</style>\n",
              "<table border=\"1\" class=\"dataframe\">\n",
              "  <thead>\n",
              "    <tr style=\"text-align: right;\">\n",
              "      <th></th>\n",
              "      <th>Standard_Relation</th>\n",
              "      <th>pRelation</th>\n",
              "    </tr>\n",
              "  </thead>\n",
              "  <tbody>\n",
              "    <tr>\n",
              "      <th>16</th>\n",
              "      <td>'&lt;'</td>\n",
              "      <td>&gt;</td>\n",
              "    </tr>\n",
              "    <tr>\n",
              "      <th>33</th>\n",
              "      <td>'='</td>\n",
              "      <td>=</td>\n",
              "    </tr>\n",
              "    <tr>\n",
              "      <th>37</th>\n",
              "      <td>'&gt;'</td>\n",
              "      <td>&lt;</td>\n",
              "    </tr>\n",
              "    <tr>\n",
              "      <th>39</th>\n",
              "      <td>'&lt;'</td>\n",
              "      <td>&gt;</td>\n",
              "    </tr>\n",
              "    <tr>\n",
              "      <th>40</th>\n",
              "      <td>'&lt;'</td>\n",
              "      <td>&gt;</td>\n",
              "    </tr>\n",
              "  </tbody>\n",
              "</table>\n",
              "</div>"
            ],
            "text/plain": [
              "   Standard_Relation pRelation\n",
              "16               '<'         >\n",
              "33               '='         =\n",
              "37               '>'         <\n",
              "39               '<'         >\n",
              "40               '<'         >"
            ]
          },
          "metadata": {
            "tags": []
          },
          "execution_count": 240
        }
      ]
    },
    {
      "cell_type": "code",
      "metadata": {
        "id": "e_Yz9ILQ22Ke"
      },
      "source": [
        "thresh=-np.log10(100/1000000000) # pIC50 of 100nM for threshold"
      ],
      "execution_count": 241,
      "outputs": []
    },
    {
      "cell_type": "code",
      "metadata": {
        "colab": {
          "base_uri": "https://localhost:8080/"
        },
        "id": "pt6DXA9q22ND",
        "outputId": "b3f27fb7-e292-44ec-cf43-90eb387bd860"
      },
      "source": [
        "chembl_cur = curate_data.aggregate_assay_data(chembl, value_col = 'pChEMBL_Value_nM', \n",
        "                                              output_value_col = 'pXC50',\n",
        "                                              id_col = 'Molecule_ChEMBL_ID', \n",
        "                                              smiles_col = 'base_rdkit_smiles',\n",
        "                                              relation_col = 'pRelation',\n",
        "                                              active_thresh=thresh)"
      ],
      "execution_count": 242,
      "outputs": [
        {
          "output_type": "stream",
          "text": [
            "0 entries in input table are missing SMILES strings\n",
            "343 unique SMILES strings are reduced to 343 unique base SMILES strings\n"
          ],
          "name": "stdout"
        }
      ]
    },
    {
      "cell_type": "code",
      "metadata": {
        "id": "6mZusAOO22Pn"
      },
      "source": [
        "chembl_cur.to_csv(\"/content/ChEMBL_cur.csv\")"
      ],
      "execution_count": 243,
      "outputs": []
    },
    {
      "cell_type": "code",
      "metadata": {
        "colab": {
          "base_uri": "https://localhost:8080/",
          "height": 306
        },
        "id": "2pFKSgnf8yPb",
        "outputId": "c1e03c4e-9629-4f14-e35e-c8cf09919fa5"
      },
      "source": [
        "# DTC\n",
        "# select pIC50 values\n",
        "vals = ['EC50', 'IC50', 'PIC50']\n",
        "print(dtc.shape)\n",
        "dtc=dtc[dtc.End_Point_Standard_Type.isin(vals)]\n",
        "print(dtc.shape)\n",
        "\n",
        "# flip arrows for relation column to reflect pValues not normal values\n",
        "dtc['pRelation'] = dtc.End_Point_Standard_Relation\n",
        "dtc['pRelation'] = np.where(dtc.End_Point_Standard_Relation == \"<\", \">\", dtc.pRelation)\n",
        "dtc['pRelation'] = np.where(dtc.End_Point_Standard_Relation == \">\", \"<\", dtc.pRelation)\n",
        "dtc['pRelation'] = np.where(dtc.End_Point_Standard_Relation == \"=\", \"=\", dtc.pRelation)\n",
        "print(dtc.pRelation.unique())\n",
        "display(dtc[['End_Point_Standard_Relation', 'pRelation']].head())\n",
        "\n",
        "dtc=dtc.dropna(axis=0, subset = ['pDTC_Value','base_rdkit_smiles'])\n",
        "print(dtc.shape)\n",
        "\n",
        "# aggregate duplicates\n",
        "dtc_cur = curate_data.aggregate_assay_data(dtc, value_col = 'pDTC_Value', \n",
        "                                              output_value_col = 'pXC50',\n",
        "                                              id_col = 'Compound_ID', \n",
        "                                              smiles_col = 'base_rdkit_smiles',\n",
        "                                              relation_col = 'pRelation',\n",
        "                                              active_thresh=thresh)\n",
        "\n",
        "dtc_cur.to_csv(\"/content/DTC_cur.csv\")"
      ],
      "execution_count": 268,
      "outputs": [
        {
          "output_type": "stream",
          "text": [
            "(393, 47)\n",
            "(393, 47)\n",
            "['=' '>' '<']\n"
          ],
          "name": "stdout"
        },
        {
          "output_type": "display_data",
          "data": {
            "text/html": [
              "<div>\n",
              "<style scoped>\n",
              "    .dataframe tbody tr th:only-of-type {\n",
              "        vertical-align: middle;\n",
              "    }\n",
              "\n",
              "    .dataframe tbody tr th {\n",
              "        vertical-align: top;\n",
              "    }\n",
              "\n",
              "    .dataframe thead th {\n",
              "        text-align: right;\n",
              "    }\n",
              "</style>\n",
              "<table border=\"1\" class=\"dataframe\">\n",
              "  <thead>\n",
              "    <tr style=\"text-align: right;\">\n",
              "      <th></th>\n",
              "      <th>End_Point_Standard_Relation</th>\n",
              "      <th>pRelation</th>\n",
              "    </tr>\n",
              "  </thead>\n",
              "  <tbody>\n",
              "    <tr>\n",
              "      <th>2</th>\n",
              "      <td>=</td>\n",
              "      <td>=</td>\n",
              "    </tr>\n",
              "    <tr>\n",
              "      <th>4</th>\n",
              "      <td>&lt;</td>\n",
              "      <td>&gt;</td>\n",
              "    </tr>\n",
              "    <tr>\n",
              "      <th>25</th>\n",
              "      <td>=</td>\n",
              "      <td>=</td>\n",
              "    </tr>\n",
              "    <tr>\n",
              "      <th>51</th>\n",
              "      <td>&lt;</td>\n",
              "      <td>&gt;</td>\n",
              "    </tr>\n",
              "    <tr>\n",
              "      <th>54</th>\n",
              "      <td>&lt;</td>\n",
              "      <td>&gt;</td>\n",
              "    </tr>\n",
              "  </tbody>\n",
              "</table>\n",
              "</div>"
            ],
            "text/plain": [
              "   End_Point_Standard_Relation pRelation\n",
              "2                            =         =\n",
              "4                            <         >\n",
              "25                           =         =\n",
              "51                           <         >\n",
              "54                           <         >"
            ]
          },
          "metadata": {
            "tags": []
          }
        },
        {
          "output_type": "stream",
          "text": [
            "(393, 47)\n",
            "0 entries in input table are missing SMILES strings\n",
            "328 unique SMILES strings are reduced to 328 unique base SMILES strings\n"
          ],
          "name": "stdout"
        }
      ]
    },
    {
      "cell_type": "code",
      "metadata": {
        "colab": {
          "base_uri": "https://localhost:8080/"
        },
        "id": "4VAs1HpS8yR9",
        "outputId": "00adc108-646e-4f7b-ca75-c879bf39f303"
      },
      "source": [
        "excape['pRelation']=''\n",
        "excape=excape.dropna(axis=0, subset = ['pXC50','base_rdkit_smiles'])\n",
        "excape_cur = curate_data.aggregate_assay_data(excape, value_col = 'pXC50', \n",
        "                                              output_value_col = 'pXC50',\n",
        "                                              id_col = 'Original_Entry_ID', \n",
        "                                              smiles_col = 'base_rdkit_smiles',\n",
        "                                              relation_col = 'pRelation',\n",
        "                                              active_thresh=thresh)\n",
        "excape_cur.to_csv(\"/content/Excape_cur.csv\")"
      ],
      "execution_count": 245,
      "outputs": [
        {
          "output_type": "stream",
          "text": [
            "0 entries in input table are missing SMILES strings\n",
            "1193 unique SMILES strings are reduced to 1193 unique base SMILES strings\n"
          ],
          "name": "stdout"
        }
      ]
    },
    {
      "cell_type": "code",
      "metadata": {
        "id": "s7iy83Qi8yVH"
      },
      "source": [
        "chembl_cur['datasource'] = 'chembl'\n",
        "dtc_cur['datasource']='dtc'\n",
        "excape_cur['datasource']='excape'\n",
        "Data = pd.concat([chembl_cur, dtc_cur, excape_cur])\n",
        "Data.to_csv(\"/content/merge.csv\")"
      ],
      "execution_count": 269,
      "outputs": []
    },
    {
      "cell_type": "code",
      "metadata": {
        "colab": {
          "base_uri": "https://localhost:8080/"
        },
        "id": "vtmPXqfi8yYB",
        "outputId": "4bdff188-5009-4f7b-a5d4-354678afad54"
      },
      "source": [
        "import importlib\n",
        "importlib.reload(curate_data)\n",
        "Data_cur = curate_data.aggregate_assay_data(Data, value_col = 'pXC50', \n",
        "                                              id_col = 'compound_id', \n",
        "                                              smiles_col = 'base_rdkit_smiles',\n",
        "                                              relation_col = 'relation',\n",
        "                                              active_thresh=thresh)\n",
        "\n",
        "print(Data_cur.shape)\n",
        "print(Data.relation.unique())\n",
        "Data_cur.head()\n",
        "Data_cur.to_csv(\"/content/merge_cur.csv\")"
      ],
      "execution_count": 275,
      "outputs": [
        {
          "output_type": "stream",
          "text": [
            "0 entries in input table are missing SMILES strings\n",
            "1526 unique SMILES strings are reduced to 1526 unique base SMILES strings\n",
            "(1526, 5)\n",
            "['>' '' '<']\n"
          ],
          "name": "stdout"
        }
      ]
    },
    {
      "cell_type": "code",
      "metadata": {
        "id": "0NqYqmG7N2UX"
      },
      "source": [
        ""
      ],
      "execution_count": null,
      "outputs": []
    }
  ]
}